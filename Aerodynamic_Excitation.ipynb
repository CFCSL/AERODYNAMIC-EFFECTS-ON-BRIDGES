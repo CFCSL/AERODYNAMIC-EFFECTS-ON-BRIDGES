{
 "cells": [
  {
   "cell_type": "markdown",
   "id": "6f48d3ae-192c-46dd-826b-1317100cf8c4",
   "metadata": {},
   "source": [
    "# 2. SUSCEPTIBILITY TO AERODYNAMIC EXCITATION"
   ]
  },
  {
   "cell_type": "markdown",
   "id": "f1a11157-16bc-458d-b8ae-b962a772aac9",
   "metadata": {},
   "source": [
    "This section shall be used to determine the susceptibility of a bridge to aerodynamic excitation. If the structure is found to be susceptible to aerodynamic excitation then the additional requirements of 3 shall be followed.\n",
    "\n",
    "## 2.1 Criteria for applicability and consideration of aerodynamic effects\n",
    "The aerodynamic susceptibility parameter, Pb, shall be derived in order to categorise the structure using the equation:"
   ]
  },
  {
   "cell_type": "code",
   "execution_count": 130,
   "id": "f1c86ac1-9c82-4d0f-95de-c55921ba807b",
   "metadata": {},
   "outputs": [
    {
     "data": {
      "text/latex": [
       "$\\displaystyle P{\\left(b \\right)} = \\rho b^{2} m^{-1} \\cdot 16 V_{r}^{2} \\left(b L f_{B}^{2}\\right)^{-1}$"
      ],
      "text/plain": [
       "Eq(P(b), (rho*b**2*m**(-1))*(16*V_r**2*(b*L*f_B**2)**(-1)))"
      ]
     },
     "metadata": {},
     "output_type": "display_data"
    },
    {
     "data": {
      "text/latex": [
       "$\\displaystyle P{\\left(b \\right)} = 1.2256 \\cdot 12.6^{2} \\cdot 6306^{-1} \\cdot 16 \\cdot 20^{2} \\left(12.6 \\cdot 96.673 \\cdot 1.17^{2}\\right)^{-1}$"
      ],
      "text/plain": [
       "Eq(P(b), (1.2256*12.6**2*6306**(-1))*(16*20**2*(12.6*96.673*1.17**2)**(-1)))"
      ]
     },
     "metadata": {},
     "output_type": "display_data"
    },
    {
     "data": {
      "text/latex": [
       "$\\displaystyle P{\\left(b \\right)} = 0.118431815122559$"
      ],
      "text/plain": [
       "Eq(P(b), 0.118431815122559)"
      ]
     },
     "metadata": {},
     "output_type": "display_data"
    }
   ],
   "source": [
    "from sympy import symbols, Eq, Function,UnevaluatedExpr, Mul\n",
    "from sympy import *\n",
    "\n",
    "# Define the symbols\n",
    "b = symbols('b')\n",
    "m = symbols('m')\n",
    "rho = symbols('rho')\n",
    "V_r = symbols('V_r')\n",
    "L = symbols('L')\n",
    "f_B = symbols('f_B')\n",
    "\n",
    "P = symbols('P', cls=Function)(b)\n",
    "\n",
    "# Define the equation\n",
    "\n",
    "def P_func(b=b,rho=rho, m=m, V_r=V_r,L=L,f_B=f_B):\n",
    "    # Make x an UnevaluatedExpr\n",
    "    b=UnevaluatedExpr(b)\n",
    "    rho=UnevaluatedExpr(rho)\n",
    "    m=UnevaluatedExpr(m)  \n",
    "    V_r=UnevaluatedExpr(V_r)\n",
    "    L=UnevaluatedExpr(L)\n",
    "    f_B=UnevaluatedExpr(f_B)    \n",
    "    \n",
    "\n",
    "    #return Eq(P, ((rho * b**2 / m)) * (16 * V_r**2 / (b * L * f_b**2)))\n",
    "    return Eq(P,Mul(  ((rho * b**2) / m) , (16 * V_r**2) / (b * L * f_B**2),evaluate=False))\n",
    "\n",
    "\n",
    "# Display the equation\n",
    "display(P_func())\n",
    "display(P_func(b=12.6,rho=1.2256,m=6306,V_r=20,L=96.673,f_B=1.17))\n",
    "display(P_func(b=12.6,rho=1.2256,m=6306,V_r=20,L=96.673,f_B=1.17).doit())\n"
   ]
  },
  {
   "cell_type": "markdown",
   "id": "bd34d976-1e52-4b8d-a449-5cf4111aad34",
   "metadata": {},
   "source": [
    "where\n",
    "\n",
    "$\\rho \\quad$ is the density of air (see NOTE 1);\n",
    "\n",
    "$b \\quad$ is the overall width of the bridge deck (see\n",
    "Figure 1);\n",
    "\n",
    "$m \\quad$ is the mass per unit length of the bridge (see NOTE 1);\n",
    "\n",
    "$V_r \\quad$ is the hourly mean wind speed (for relieving areas) as per BD 37 (DMRB 1.3);\n",
    "\n",
    "$L \\quad$ is the length of the relevant maximum span of the bridge;\n",
    "\n",
    "$f_B \\quad$ is the natural frequency in bending (see NOTE 2).\n"
   ]
  },
  {
   "cell_type": "markdown",
   "id": "8ab778a6-5f82-41f1-86b2-b64eafc41d2a",
   "metadata": {},
   "source": [
    "### 2.1.1 Limited amplitude response - vortex excitation\n",
    "\n",
    "#### 2.1.1.1 General\n",
    "\n",
    "Estimates of the critical wind speed for vortex excitation for both bending and torsion (Vcr) shall be derived according to 2.1.1.2. For certain truss girder bridges see 2.1.1.3(c). The limiting criteria given in 2.1.1.3 shall then be satisfied.\n",
    "\n",
    "#### 2.1.1.2 Criticalwindspeedsforvortex excitation\n",
    "\n",
    "\n"
   ]
  },
  {
   "cell_type": "code",
   "execution_count": 120,
   "id": "54aacbbc-0de4-4a4a-ad24-9353ef5fcf84",
   "metadata": {},
   "outputs": [],
   "source": [
    "# Calculate V_cr\n",
    "\n",
    "# define the bridge types:\n",
    "bridge_types = [\"1\", \"1A\", \"3\", \"3A\", \"4\", \"4A\", \"2\", \"5\", \"6\"]\n",
    "\n",
    "# define the symbols\n",
    "V_cr = symbols('V_cr')\n",
    "f_T=symbols('f_T')\n",
    "b_0=symbols('b_0')\n",
    "d_4=symbols('d_4')\n",
    "f=symbols('f')\n",
    "\n",
    "\n",
    "def V_cr_func(bridge_type, b_0=b_0, d_4=d_4, f=f):\n",
    "    r = b_0/d_4\n",
    "\n",
    "    if r <= 5 and bridge_type in bridge_types :\n",
    "        val = 6.5 * f * d_4\n",
    "    elif r > 5 and r < 10:\n",
    "        if bridge_type in [\"1\", \"1A\", \"3\", \"3A\", \"4\", \"4A\"]:\n",
    "            val = f * d_4 * (1.1 * b_0 / d_4 + 1)\n",
    "        elif bridge_type in [\"2\", \"5\", \"6\"]:\n",
    "            val = f * d_4 * (0.7 * b_0 / d_4 + 3)\n",
    "    elif r >= 10:\n",
    "        if bridge_type in [\"1\", \"1A\", \"3\", \"3A\", \"4\", \"4A\"]:\n",
    "            val = 12 * f * d_4\n",
    "        elif bridge_type in [\"2\", \"5\", \"6\"]:\n",
    "            val = 10 * f * d_4\n",
    "\n",
    "    return Eq(V_cr, val)"
   ]
  },
  {
   "cell_type": "code",
   "execution_count": 121,
   "id": "c0e5fb71-afd3-42fa-bab4-c654adcbaac5",
   "metadata": {},
   "outputs": [
    {
     "data": {
      "text/latex": [
       "$\\displaystyle V_{cr} = 28.899$"
      ],
      "text/plain": [
       "Eq(V_cr, 28.899)"
      ]
     },
     "metadata": {},
     "output_type": "display_data"
    }
   ],
   "source": [
    "\n",
    "value = V_cr_func(bridge_type=\"1A\", b_0=12.6, d_4=3.8,f=1.17)# f=f_B=1.17\n",
    "display(value)\n"
   ]
  },
  {
   "cell_type": "code",
   "execution_count": 122,
   "id": "7419a074-8515-4211-8e2a-47753a3b0365",
   "metadata": {},
   "outputs": [
    {
     "data": {
      "text/latex": [
       "$\\displaystyle V_{cr} = 32.11$"
      ],
      "text/plain": [
       "Eq(V_cr, 32.11)"
      ]
     },
     "metadata": {},
     "output_type": "display_data"
    }
   ],
   "source": [
    "\n",
    "value = critical_V(bridge_type=\"1A\", b_0=12.6, d_4=3.8,f=1.3)# f=f_T=1.3\n",
    "display(value)\n"
   ]
  },
  {
   "cell_type": "markdown",
   "id": "663ddd83-6460-49d2-abae-ce8995829d30",
   "metadata": {},
   "source": [
    "#### 2.1.1.3 Limiting criteria\n"
   ]
  },
  {
   "cell_type": "code",
   "execution_count": 124,
   "id": "a70e5d0d-fa8c-41a7-ac84-c9d338f08cb6",
   "metadata": {},
   "outputs": [
    {
     "data": {
      "text/latex": [
       "$\\displaystyle V_{vs} = 1.25 V_{r}$"
      ],
      "text/plain": [
       "Eq(V_vs, 1.25*V_r)"
      ]
     },
     "metadata": {},
     "output_type": "display_data"
    }
   ],
   "source": [
    "# define the symbols \n",
    "V_vs= symbols('V_vs')\n",
    "def V_vs_func(V_r=V_r):\n",
    "    val=1.25*V_r\n",
    "    return Eq(V_vs, val, evaluate=False)\n",
    "\n",
    "display(V_vs_func())\n",
    "\n"
   ]
  },
  {
   "cell_type": "markdown",
   "id": "8ed8a930-f118-442e-90c5-7574d044354b",
   "metadata": {},
   "source": [
    "### 2.1.2 Limited amplitude response - turbulence"
   ]
  },
  {
   "cell_type": "code",
   "execution_count": 125,
   "id": "897e5c93-742e-4cf7-95a3-59fb812683d5",
   "metadata": {},
   "outputs": [],
   "source": [
    "\n",
    "# Define the symbols\n",
    "V_s = symbols('V_s')\n",
    "sigma_flm=symbols('sigma_flm')\n",
    "sigma_c=symbols('sigma_c')\n",
    "P_T = symbols('P_T', cls=Function)(b)\n",
    "\n",
    "# Define the equation\n",
    "\n",
    "def P_T_func(b=b,rho=rho, m=m, V_s=V_s,f_B=f_B, sigma_flm=sigma_flm, sigma_c=sigma_c):\n",
    "    # Make x an UnevaluatedExpr\n",
    "    b=UnevaluatedExpr(b)\n",
    "    rho=UnevaluatedExpr(rho)\n",
    "    m=UnevaluatedExpr(m)  \n",
    "    V_s=UnevaluatedExpr(V_s)\n",
    "    sigma_flm=UnevaluatedExpr(sigma_flm)\n",
    "    sigma_c=UnevaluatedExpr(sigma_c)    \n",
    "    \n",
    "\n",
    "    return Eq(P_T,Mul( Mul(((rho * b**2) / m) , (V_s / (f_B*b))**2, evaluate=False),((sigma_flm*b)/sigma_c),evaluate=False))\n"
   ]
  },
  {
   "cell_type": "code",
   "execution_count": 126,
   "id": "a95078a9-b491-4803-bfe3-2c6e2e73aa05",
   "metadata": {},
   "outputs": [
    {
     "data": {
      "text/latex": [
       "$\\displaystyle P_{T}{\\left(b \\right)} = \\rho b^{2} m^{-1} \\frac{\\left(V_{s} b^{-1}\\right)^{2}}{f_{B}^{2}} \\sigma_{flm} b \\sigma_{c}^{-1}$"
      ],
      "text/plain": [
       "Eq(P_T(b), ((rho*b**2*m**(-1))*((V_s*b**(-1))**2/f_B**2))*(sigma_flm*b*sigma_c**(-1)))"
      ]
     },
     "metadata": {},
     "output_type": "display_data"
    }
   ],
   "source": [
    "display(P_T_func())"
   ]
  },
  {
   "cell_type": "markdown",
   "id": "3ab2c54d-7b92-49f1-bb8a-03ef5aa698d2",
   "metadata": {},
   "source": [
    "$V_s$ is the site hourly mean wind speed ($10m$ above ground level) as per BD 37 (DMRB 1.3);\n",
    "\n",
    "$\\sigma_{flm}$ is the peak stress in the structure per unit deflection in the first mode of vibration, derived for the most highly stressed location in the relevant element:\n",
    "\n",
    "$\\sigma_c$ is a reference stress as follows:\n",
    "\n",
    "for steel beam elements, $\\sigma_c = 600 N/mm2$ for the\n",
    "c longitudinal flange bending stress; or\n",
    "for truss bridges, $\\sigma_c = 750 N/mm2$ for the chord\n",
    "axial stress; or for concrete elements (composite or concretebridges), $\\sigma_c = 80 N/mm2$ for the primary bending \n",
    "concrete stress; or for cable-stayed bridges the peak stay axial stress should additionally be examined, with $\\sigma_c = 1200 N/mm2$."
   ]
  },
  {
   "cell_type": "markdown",
   "id": "f30065b6-4679-4f82-be89-36a3b17e9a25",
   "metadata": {},
   "source": [
    "#### 2.1.3.2 Galloping and stall flutter\n",
    "\n",
    "**(a) Vertical motion**\n",
    "\n",
    "Vertical motion need be considered only for bridges of types 3, 3A, 4 and 4A as shown in Figure 1, and only if $b < 4d_4$.\n",
    "\n",
    "**(b) Torsional motion**"
   ]
  },
  {
   "cell_type": "code",
   "execution_count": 127,
   "id": "638a6148-6e83-4920-935f-26eae428ec7e",
   "metadata": {},
   "outputs": [
    {
     "data": {
      "text/latex": [
       "$\\displaystyle V_{g} = V_{Rg} f_{B} d_{4}$"
      ],
      "text/plain": [
       "Eq(V_g, V_Rg*f_B*d_4)"
      ]
     },
     "metadata": {},
     "output_type": "display_data"
    },
    {
     "data": {
      "text/latex": [
       "$\\displaystyle V_{Rg} = \\frac{C_{g} d_{4}^{2} \\delta_{s} m}{\\rho}$"
      ],
      "text/plain": [
       "Eq(V_Rg, C_g*d_4**2*delta_s*m/rho)"
      ]
     },
     "metadata": {},
     "output_type": "display_data"
    }
   ],
   "source": [
    "# Define the symbols\n",
    "V_g= symbols('V_g')\n",
    "f= symbols('f')\n",
    "V_Rg=symbols('V_Rg')\n",
    "C_g=symbols('C_g')\n",
    "delta_s=symbols('delta_s')\n",
    "\n",
    "\n",
    "def V_g_func(motion,bridge_type,V_Rg=V_Rg, f_B=f_B,f_T=f_T,d_4=d_4):\n",
    "    # Make x an UnevaluatedExpr\n",
    "    V_Rg=UnevaluatedExpr(V_Rg)\n",
    "    f_B=UnevaluatedExpr(f_B)\n",
    "    d_4=UnevaluatedExpr(d_4)\n",
    "    \n",
    "    if motion==\"Vertical\"  and bridge_type in bridge_types:\n",
    "        val=V_Rg*f_B*d_4\n",
    "    if motion==\"Torsional\":\n",
    "        if bridge_type in [\"1\",\"1A\",\"2\",\"5\",\"6\"]:\n",
    "            val=3.3*f_T\n",
    "        if bridge_type in [\"3\",\"3A\",\"4\", \"4A\"]:\n",
    "            if b<4*d_4:\n",
    "                val=min(5*f_T*b, 12*f_T*d_4)\n",
    "            else:\n",
    "                val=5*f_T*b\n",
    "           \n",
    "    return Eq(V_g,val, evaluate=False)\n",
    "\n",
    "\n",
    "display(V_g_func(motion=\"Vertical\", bridge_type=\"1\"))\n",
    "\n",
    "\n",
    "def V_Rg_func(C_g=C_g, m=m, delta_s=delta_s, rho=rho, d_4=d_4):\n",
    "    return Eq(V_Rg, C_g*(m*delta_s)/rho*d_4**2, evaluate=False)\n",
    "\n",
    "display(V_Rg_func())"
   ]
  },
  {
   "cell_type": "code",
   "execution_count": 128,
   "id": "4a9f779f-1b9d-42e1-a202-2f5ff3171896",
   "metadata": {},
   "outputs": [
    {
     "data": {
      "text/latex": [
       "$\\displaystyle V_{g} = \\frac{C_{g} d_{4}^{2} \\delta_{s} m}{\\rho} f_{B} d_{4}$"
      ],
      "text/plain": [
       "Eq(V_g, (C_g*d_4**2*delta_s*m/rho)*f_B*d_4)"
      ]
     },
     "metadata": {},
     "output_type": "display_data"
    }
   ],
   "source": [
    "display(V_g_func(motion=\"Vertical\", bridge_type=\"1\",V_Rg=V_Rg_func().rhs))"
   ]
  },
  {
   "cell_type": "code",
   "execution_count": 116,
   "id": "331596b1-d561-4b27-9204-75ccd388787e",
   "metadata": {},
   "outputs": [],
   "source": [
    "#V_g_func(motion=\"Vertical\", bridge_type=\"1\").subs(V_Rg_func().lhs, V_Rg_func().rhs)# it works also"
   ]
  },
  {
   "cell_type": "markdown",
   "id": "e060acaf-51f9-4f4e-a920-38c1e83002b8",
   "metadata": {},
   "source": [
    "where\n",
    "\n",
    "$f_B, m$ and $\\rho$ are as defined in 2.1;\n",
    "\n",
    "$C_g$ is $2.0$ for bridges of type 3 and 4 with side overhang greater than $0.7d_4$ or $1.0$ for bridges of type 3, 3A, 4 and 4A with side overhang less than or equal to $0.7d_4$;\n",
    "\n",
    "$\\delta_s$ is the logarithmic decrement of damping, as specified in 3.1.2,\n",
    "\n",
    "$d_4$ is the reference depth of the bridge shown in Figure 1, as defined in 2.1.1.2.\n",
    "\n",
    "Alternatively, wind tunnel tests shall be undertaken to determine the value of $V_g$.\n"
   ]
  },
  {
   "cell_type": "markdown",
   "id": "b2d0cd60-47b9-403c-8c91-098d42d445e5",
   "metadata": {},
   "source": [
    "#### 2.1.3.3 Classical flutter\n",
    "The critical wind speed for classical flutter, $V_f$, shall be calculated from the reduced critical wind speed:\n"
   ]
  },
  {
   "cell_type": "code",
   "execution_count": 135,
   "id": "7c57d9d9-cf43-4104-b627-fcb875dc3432",
   "metadata": {},
   "outputs": [
    {
     "data": {
      "text/latex": [
       "$\\displaystyle V_{f} = b f_{T} V_{Rf}$"
      ],
      "text/plain": [
       "Eq(V_f, b*f_T*V_Rf)"
      ]
     },
     "metadata": {},
     "output_type": "display_data"
    },
    {
     "data": {
      "text/latex": [
       "$\\displaystyle V_{Rf} = 1.8 \\left(1 - 1.1 \\left(f_{B} f_{T}^{-1}\\right)^{2}\\right)^{0.5} \\left(m r b^{-3} \\rho^{-1}\\right)^{0.5}$"
      ],
      "text/plain": [
       "Eq(V_Rf, 1.8*(1 - 1.1*(f_B*f_T**(-1))**2)**0.5*(m*r*b**(-3)*rho**(-1))**0.5)"
      ]
     },
     "metadata": {},
     "output_type": "display_data"
    },
    {
     "name": "stdout",
     "output_type": "stream",
     "text": [
      "\n",
      "Substituting V_Rf in to V_f:\n"
     ]
    },
    {
     "data": {
      "text/latex": [
       "$\\displaystyle V_{f} = b f_{T} 1.8 \\left(1 - 1.1 \\left(f_{B} f_{T}^{-1}\\right)^{2}\\right)^{0.5} \\left(m r b^{-3} \\rho^{-1}\\right)^{0.5}$"
      ],
      "text/plain": [
       "Eq(V_f, b*f_T*(1.8*(1 - 1.1*(f_B*f_T**(-1))**2)**0.5*(m*r*b**(-3)*rho**(-1))**0.5))"
      ]
     },
     "metadata": {},
     "output_type": "display_data"
    }
   ],
   "source": [
    "# define the symbols:\n",
    "\n",
    "V_Rf =symbols('V_Rf')\n",
    "V_f=symbols('V_f')\n",
    "r=symbols('r')\n",
    "\n",
    "\n",
    "\n",
    "def V_f_func(V_Rf=V_Rf,f_T=f_T,b=b):\n",
    "    V_Rf=UnevaluatedExpr(V_Rf)\n",
    "    val=V_Rf*f_T*b\n",
    "    return Eq(V_f,val)\n",
    "\n",
    "display(V_f_func())\n",
    "\n",
    "\n",
    "def V_Rf_func(f_B=f_B, f_T=f_T, m=m, r=r, rho=rho,b=b):\n",
    "    f_B=UnevaluatedExpr(f_B)\n",
    "    f_T=UnevaluatedExpr(f_T)\n",
    "    f_B=UnevaluatedExpr(f_B)\n",
    "    m=UnevaluatedExpr(m)\n",
    "    r=UnevaluatedExpr(r)\n",
    "    rho=UnevaluatedExpr(rho)\n",
    "    b=UnevaluatedExpr(b)\n",
    "    \n",
    "    a1=(1-1.1*(f_B/f_T)**2)#**(1/2)\n",
    "    a2=Pow(a1,(1/2), evaluate=False)\n",
    "    val=1.8*a2*((m*r)/(rho*b**3))**(1/2)\n",
    "   \n",
    "    return Eq(V_Rf,val)\n",
    "    \n",
    "display(V_Rf_func())\n",
    "print(f'\\nSubstituting V_Rf in to V_f:')\n",
    "display(V_f_func(V_Rf=V_Rf_func().rhs))"
   ]
  },
  {
   "cell_type": "markdown",
   "id": "78f09510-d710-404b-99e1-063e75fd0cc5",
   "metadata": {},
   "source": [
    "$r$ is the polar radius of gyration of the effective bridge cross section at the centre of the main span (polar second moment of mass/mass)1⁄2."
   ]
  },
  {
   "cell_type": "code",
   "execution_count": 29,
   "id": "b1eb1cca-ab10-424f-90fa-28013af16dc7",
   "metadata": {},
   "outputs": [
    {
     "data": {
      "text/latex": [
       "$\\displaystyle r = \\frac{I_{x} + I_{y}}{A}$"
      ],
      "text/plain": [
       "Eq(r, (I_x + I_y)/A)"
      ]
     },
     "metadata": {},
     "output_type": "display_data"
    }
   ],
   "source": [
    "I_x=symbols('I_x')\n",
    "I_y=symbols('I_y')\n",
    "A=symbols('A') # A\n",
    "\n",
    "def r_func(I_x=I_x,I_y=I_y,A=A):\n",
    "    I_z=I_x+I_y\n",
    "    val=(I_z/A)\n",
    "    return Eq(r, val)\n",
    "\n",
    "display(r_func())"
   ]
  }
 ],
 "metadata": {
  "kernelspec": {
   "display_name": "Python 3 (ipykernel)",
   "language": "python",
   "name": "python3"
  },
  "language_info": {
   "codemirror_mode": {
    "name": "ipython",
    "version": 3
   },
   "file_extension": ".py",
   "mimetype": "text/x-python",
   "name": "python",
   "nbconvert_exporter": "python",
   "pygments_lexer": "ipython3",
   "version": "3.9.16"
  }
 },
 "nbformat": 4,
 "nbformat_minor": 5
}
