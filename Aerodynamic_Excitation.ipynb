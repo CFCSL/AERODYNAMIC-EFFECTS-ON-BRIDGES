{
 "cells": [
  {
   "cell_type": "code",
   "execution_count": 19,
   "id": "cc381a3f-a777-4772-8961-049af653f37c",
   "metadata": {},
   "outputs": [],
   "source": []
  },
  {
   "cell_type": "markdown",
   "id": "f1a11157-16bc-458d-b8ae-b962a772aac9",
   "metadata": {},
   "source": [
    "This section shall be used to determine the susceptibility of a bridge to aerodynamic excitation. If the structure is found to be susceptible to aerodynamic excitation then the additional requirements of 3 shall be followed.\n",
    "\n",
    "## 2.1 Criteria for applicability and consideration of aerodynamic effects\n",
    "The aerodynamic susceptibility parameter, Pb, shall be derived in order to categorise the structure using the equation:"
   ]
  },
  {
   "cell_type": "code",
   "execution_count": 49,
   "id": "f1c86ac1-9c82-4d0f-95de-c55921ba807b",
   "metadata": {},
   "outputs": [
    {
     "data": {
      "text/latex": [
       "$\\displaystyle P{\\left(b \\right)} = \\frac{16 V_{r}^{2} \\rho b}{L f_{b}^{2} m}$"
      ],
      "text/plain": [
       "Eq(P(b), 16*V_r**2*rho*b/(L*f_b**2*m))"
      ]
     },
     "metadata": {},
     "output_type": "display_data"
    }
   ],
   "source": [
    "from sympy import symbols, Eq, Function,UnevaluatedExpr\n",
    "\n",
    "# Define the symbols\n",
    "b = symbols('b')\n",
    "m = symbols('m')\n",
    "rho = symbols('rho')\n",
    "V_r = symbols('V_r')\n",
    "L = symbols('L')\n",
    "f_b = symbols('f_b')\n",
    "\n",
    "P = symbols('P', cls=Function)(b)\n",
    "\n",
    "# Define the equation\n",
    "\n",
    "def P_f(b=b):\n",
    "    # Make x an UnevaluatedExpr\n",
    "    b=UnevaluatedExpr(b)\n",
    "\n",
    "    return Eq(P, ((rho * b**2 / m)) * (16 * V_r**2 / (b * L * f_b**2)))\n",
    "\n",
    "\n",
    "#equation = Eq(P, ((rho * b**2 / m)) * (16 * V_r**2 / (b * L * f_b**2)))\n",
    "\n",
    "# Display the equation\n",
    "display(P_f())\n"
   ]
  },
  {
   "cell_type": "code",
   "execution_count": null,
   "id": "4fa9d205-214d-45c9-ba78-e5cf2b06893e",
   "metadata": {},
   "outputs": [],
   "source": []
  }
 ],
 "metadata": {
  "kernelspec": {
   "display_name": "Python 3 (ipykernel)",
   "language": "python",
   "name": "python3"
  },
  "language_info": {
   "codemirror_mode": {
    "name": "ipython",
    "version": 3
   },
   "file_extension": ".py",
   "mimetype": "text/x-python",
   "name": "python",
   "nbconvert_exporter": "python",
   "pygments_lexer": "ipython3",
   "version": "3.9.16"
  }
 },
 "nbformat": 4,
 "nbformat_minor": 5
}
