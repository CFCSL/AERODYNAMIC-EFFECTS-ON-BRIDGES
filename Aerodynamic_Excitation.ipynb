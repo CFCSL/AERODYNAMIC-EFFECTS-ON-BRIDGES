{
 "cells": [
  {
   "cell_type": "markdown",
   "id": "6f48d3ae-192c-46dd-826b-1317100cf8c4",
   "metadata": {},
   "source": [
    "# 2. SUSCEPTIBILITY TO AERODYNAMIC EXCITATION"
   ]
  },
  {
   "cell_type": "markdown",
   "id": "f1a11157-16bc-458d-b8ae-b962a772aac9",
   "metadata": {},
   "source": [
    "This section shall be used to determine the susceptibility of a bridge to aerodynamic excitation. If the structure is found to be susceptible to aerodynamic excitation then the additional requirements of 3 shall be followed.\n",
    "\n",
    "## 2.1 Criteria for applicability and consideration of aerodynamic effects\n",
    "The aerodynamic susceptibility parameter, Pb, shall be derived in order to categorise the structure using the equation:"
   ]
  },
  {
   "cell_type": "code",
   "execution_count": 1,
   "id": "05a3efc2-342c-40df-881d-c20c55d46ed5",
   "metadata": {},
   "outputs": [],
   "source": [
    "from sympy import symbols, Eq, Function,UnevaluatedExpr, Mul\n",
    "from sympy import *\n",
    "import Aerodynamic_Excitation as AF"
   ]
  },
  {
   "cell_type": "code",
   "execution_count": 2,
   "id": "e58bf1cc-6f08-4e09-b28d-3ead6fe7293a",
   "metadata": {},
   "outputs": [
    {
     "data": {
      "image/png": "[encoded data removed]",
      "text/latex": [
       "$\\displaystyle P{\\left(b \\right)} = \\rho b^{2} m^{-1} \\cdot 16 V_{r}^{2} \\left(b L f_{B}^{2}\\right)^{-1}$"
      ],
      "text/plain": [
       "                                 -1\n",
       "          2  -1      2 ⎛       2⎞  \n",
       "P(b) = ρ⋅b ⋅m  ⋅16⋅Vᵣ ⋅⎝b⋅L⋅f_B ⎠  "
      ]
     },
     "execution_count": 2,
     "metadata": {},
     "output_type": "execute_result"
    }
   ],
   "source": [
    "AF.P_func()"
   ]
  },
  {
   "cell_type": "code",
   "execution_count": null,
   "id": "e468157e-c5ff-43a2-b646-a51881c62964",
   "metadata": {},
   "outputs": [],
   "source": []
  },
  {
   "cell_type": "code",
   "execution_count": null,
   "id": "7e57073e-30b3-4678-9dd1-87e362497079",
   "metadata": {},
   "outputs": [],
   "source": []
  },
  {
   "cell_type": "code",
   "execution_count": 3,
   "id": "0f87f58c-ec57-4b1e-a76a-28a6ff702b59",
   "metadata": {},
   "outputs": [],
   "source": [
    "# Define a function to round an expression\n",
    "def round_expr(expr, num_digits=3):\n",
    "    return expr.xreplace({n : round(n, num_digits) for n in expr.atoms(Number)})\n",
    "\n",
    "#Define a funtion to round an equation\n",
    "def round_equation(eq, num_digits=3):\n",
    "    lhs = eq.lhs\n",
    "    rhs = eq.rhs\n",
    "    rounded_rhs = round_expr(rhs, num_digits)\n",
    "    return Eq(lhs, rounded_rhs)\n"
   ]
  },
  {
   "cell_type": "code",
   "execution_count": 4,
   "id": "f1c86ac1-9c82-4d0f-95de-c55921ba807b",
   "metadata": {},
   "outputs": [
    {
     "data": {
      "image/png": "[encoded data removed]",
      "text/latex": [
       "$\\displaystyle P{\\left(b \\right)} = \\rho b^{2} m^{-1} \\cdot 16 V_{r}^{2} \\left(b L f_{B}^{2}\\right)^{-1}$"
      ],
      "text/plain": [
       "                                 -1\n",
       "          2  -1      2 ⎛       2⎞  \n",
       "P(b) = ρ⋅b ⋅m  ⋅16⋅Vᵣ ⋅⎝b⋅L⋅f_B ⎠  "
      ]
     },
     "metadata": {},
     "output_type": "display_data"
    },
    {
     "data": {
      "image/png": "[encoded data removed]",
      "text/latex": [
       "$\\displaystyle P{\\left(b \\right)} = 1.2256 \\cdot 12.6^{2} \\cdot 6306^{-1} \\cdot 16 \\cdot 20^{2} \\left(12.6 \\cdot 96.673 \\cdot 1.17^{2}\\right)^{-1}$"
      ],
      "text/plain": [
       "                                                     -1\n",
       "                  2     -1      2 ⎛                2⎞  \n",
       "P(b) = 1.2256⋅12.6 ⋅6306  ⋅16⋅20 ⋅⎝12.6⋅96.673⋅1.17 ⎠  "
      ]
     },
     "metadata": {},
     "output_type": "display_data"
    },
    {
     "data": {
      "image/png": "[encoded data removed]",
      "text/latex": [
       "$\\displaystyle P{\\left(b \\right)} = 0.118$"
      ],
      "text/plain": [
       "P(b) = 0.118"
      ]
     },
     "metadata": {},
     "output_type": "display_data"
    }
   ],
   "source": [
    "\n",
    "# Define the symbols\n",
    "b = symbols('b')\n",
    "m = symbols('m')\n",
    "rho = symbols('rho')\n",
    "V_r = symbols('V_r')\n",
    "L = symbols('L')\n",
    "f_B = symbols('f_B')\n",
    "\n",
    "P = symbols('P', cls=Function)(b)\n",
    "\n",
    "# Define the equation P(b):\n",
    "\n",
    "def P_func(b=b,rho=rho, m=m, V_r=V_r,L=L,f_B=f_B):\n",
    "    # Make x an UnevaluatedExpr\n",
    "    b=UnevaluatedExpr(b)\n",
    "    rho=UnevaluatedExpr(rho)\n",
    "    m=UnevaluatedExpr(m)  \n",
    "    V_r=UnevaluatedExpr(V_r)\n",
    "    L=UnevaluatedExpr(L)\n",
    "    f_B=UnevaluatedExpr(f_B)    \n",
    "    \n",
    "\n",
    "    #return Eq(P, ((rho * b**2 / m)) * (16 * V_r**2 / (b * L * f_b**2)))\n",
    "    return Eq(P,Mul(  ((rho * b**2) / m) , (16 * V_r**2) / (b * L * f_B**2),evaluate=False))\n",
    "\n",
    "\n",
    "# Display the equation\n",
    "display(P_func())\n",
    "display(P_func(b=12.6,rho=1.2256,m=6306,V_r=20,L=96.673,f_B=1.17))\n",
    "P_b_round=round_equation(P_func(b=12.6,rho=1.2256,m=6306,V_r=20,L=96.673,f_B=1.17).doit())\n",
    "display(P_b_round)\n"
   ]
  },
  {
   "cell_type": "markdown",
   "id": "bd34d976-1e52-4b8d-a449-5cf4111aad34",
   "metadata": {},
   "source": [
    "where\n",
    "\n",
    "$\\rho \\quad$ is the density of air (see NOTE 1);\n",
    "\n",
    "$b \\quad$ is the overall width of the bridge deck (see\n",
    "Figure 1);\n",
    "\n",
    "$m \\quad$ is the mass per unit length of the bridge (see NOTE 1);\n",
    "\n",
    "$V_r \\quad$ is the hourly mean wind speed (for relieving areas) as per BD 37 (DMRB 1.3);\n",
    "\n",
    "$L \\quad$ is the length of the relevant maximum span of the bridge;\n",
    "\n",
    "$f_B \\quad$ is the natural frequency in bending (see NOTE 2).\n"
   ]
  },
  {
   "cell_type": "markdown",
   "id": "8ab778a6-5f82-41f1-86b2-b64eafc41d2a",
   "metadata": {},
   "source": [
    "### 2.1.1 Limited amplitude response - vortex excitation\n",
    "\n",
    "#### 2.1.1.1 General\n",
    "\n",
    "Estimates of the critical wind speed for vortex excitation for both bending and torsion (Vcr) shall be derived according to 2.1.1.2. For certain truss girder bridges see 2.1.1.3(c). The limiting criteria given in 2.1.1.3 shall then be satisfied.\n",
    "\n",
    "#### 2.1.1.2 Criticalwindspeedsforvortex excitation\n",
    "\n",
    "\n"
   ]
  },
  {
   "cell_type": "code",
   "execution_count": 5,
   "id": "54aacbbc-0de4-4a4a-ad24-9353ef5fcf84",
   "metadata": {},
   "outputs": [],
   "source": [
    "# Calculate V_cr\n",
    "\n",
    "# define the bridge types:\n",
    "bridge_types = [\"1\", \"1A\", \"3\", \"3A\", \"4\", \"4A\", \"2\", \"5\", \"6\"]\n",
    "\n",
    "# define the symbols\n",
    "V_cr = symbols('V_cr')\n",
    "f_T=symbols('f_T')\n",
    "b_0=symbols('b_0')\n",
    "d_4=symbols('d_4')\n",
    "f=symbols('f')\n",
    "r=symbols('r')\n",
    "bt=symbols('bt')\n",
    "\n",
    "\n",
    "def V_cr_func(bridge_type, b_0=b_0, d_4=d_4, f=f):\n",
    "    r = b_0/d_4\n",
    "\n",
    "    if r <= 5 and bridgetype in bridge_types :\n",
    "        val = 6.5 * f * d_4\n",
    "    elif r > 5 and r < 10:\n",
    "        if bridge_type in [\"1\", \"1A\", \"3\", \"3A\", \"4\", \"4A\"]:\n",
    "            val = f * d_4 * (1.1 * b_0 / d_4 + 1)\n",
    "        elif bridge_type in [\"2\", \"5\", \"6\"]:\n",
    "            val = f * d_4 * (0.7 * b_0 / d_4 + 3)\n",
    "    elif r >= 10:\n",
    "        if bridge_type in [\"1\", \"1A\", \"3\", \"3A\", \"4\", \"4A\"]:\n",
    "            val = 12 * f * d_4\n",
    "        elif bridge_type in [\"2\", \"5\", \"6\"]:\n",
    "            val = 10 * f * d_4\n",
    "\n",
    "    return Eq(V_cr, val)"
   ]
  },
  {
   "cell_type": "code",
   "execution_count": 6,
   "id": "bae91491-81b0-4e94-adb3-885ccb3229db",
   "metadata": {},
   "outputs": [],
   "source": [
    "from sympy import symbols, Piecewise, Eq\n",
    "\n",
    "# Define the bridge types:\n",
    "bridge_types = [\"1\", \"1A\", \"3\", \"3A\", \"4\", \"4A\", \"2\", \"5\", \"6\"]\n",
    "\n",
    "# Define the symbols\n",
    "V_cr = symbols('V_cr')\n",
    "f_T = symbols('f_T')\n",
    "b_0 = symbols('b_0')\n",
    "d_4 = symbols('d_4')\n",
    "f = symbols('f')\n",
    "r = symbols('r')\n",
    "bt = symbols('bt')\n",
    "\n",
    "def V_cr_func(bridge_type, b_0=b_0, d_4=d_4, f=f):\n",
    "    r = b_0 / d_4\n",
    "\n",
    "    val = Piecewise(\n",
    "        (6.5 * f * d_4, (r <= 5) & (bridge_type in bridge_types)),\n",
    "        (f * d_4 * (1.1 * b_0 / d_4 + 1), (r > 5) & (r < 10) & (bridge_type in [\"1\", \"1A\", \"3\", \"3A\", \"4\", \"4A\"])),\n",
    "        (f * d_4 * (0.7 * b_0 / d_4 + 3), (r > 5) & (r < 10) & (bridge_type in [\"2\", \"5\", \"6\"])),\n",
    "        (12 * f * d_4, (r >= 10) & (bridge_type in [\"1\", \"1A\", \"3\", \"3A\", \"4\", \"4A\"])),\n",
    "        (10 * f * d_4, (r >= 10) & (bridge_type in [\"2\", \"5\", \"6\"])),\n",
    "        (0, True)  # default value when none of the conditions are met\n",
    "    )\n",
    "\n",
    "    return Eq(V_cr, val)\n"
   ]
  },
  {
   "cell_type": "code",
   "execution_count": 7,
   "id": "1d5c925e-16ff-4a5d-a02a-a24b1da3aa40",
   "metadata": {},
   "outputs": [
    {
     "data": {
      "image/png": "[encoded data removed]",
      "text/latex": [
       "$\\displaystyle V_{cr} = 28.899$"
      ],
      "text/plain": [
       "V_cr = 28.899"
      ]
     },
     "metadata": {},
     "output_type": "display_data"
    }
   ],
   "source": [
    "display(round_equation(V_cr_func(bridge_type=\"1A\", b_0=12.6, d_4=3.8,f=1.17)))"
   ]
  },
  {
   "cell_type": "code",
   "execution_count": 8,
   "id": "b99f0037-b2f3-4b42-8a6e-7f778e966d6c",
   "metadata": {},
   "outputs": [
    {
     "data": {
      "image/png": "[encoded data removed]",
      "text/latex": [
       "$\\displaystyle V_{cr} = 28.899$"
      ],
      "text/plain": [
       "V_cr = 28.899"
      ]
     },
     "metadata": {},
     "output_type": "display_data"
    }
   ],
   "source": [
    "display(Eq(V_cr,V_cr_func(bridge_type=\"1A\", b_0=12.6, d_4=3.8,f=1.17).rhs.round(3)))"
   ]
  },
  {
   "cell_type": "markdown",
   "id": "663ddd83-6460-49d2-abae-ce8995829d30",
   "metadata": {},
   "source": [
    "#### 2.1.1.3 Limiting criteria\n"
   ]
  },
  {
   "cell_type": "code",
   "execution_count": 9,
   "id": "a70e5d0d-fa8c-41a7-ac84-c9d338f08cb6",
   "metadata": {},
   "outputs": [
    {
     "data": {
      "image/png": "[encoded data removed]",
      "text/latex": [
       "$\\displaystyle V_{vs} = 1.25 V_{r}$"
      ],
      "text/plain": [
       "Vᵥₛ = 1.25⋅Vᵣ"
      ]
     },
     "metadata": {},
     "output_type": "display_data"
    }
   ],
   "source": [
    "# define the symbols \n",
    "V_vs= symbols('V_vs')\n",
    "def V_vs_func(V_r=V_r):\n",
    "    val=1.25*V_r\n",
    "    return Eq(V_vs, val, evaluate=False)\n",
    "\n",
    "display(V_vs_func())\n",
    "\n"
   ]
  },
  {
   "cell_type": "markdown",
   "id": "8ed8a930-f118-442e-90c5-7574d044354b",
   "metadata": {},
   "source": [
    "### 2.1.2 Limited amplitude response - turbulence"
   ]
  },
  {
   "cell_type": "code",
   "execution_count": 10,
   "id": "897e5c93-742e-4cf7-95a3-59fb812683d5",
   "metadata": {},
   "outputs": [],
   "source": [
    "\n",
    "# Define the symbols\n",
    "V_s = symbols('V_s')\n",
    "sigma_flm=symbols('sigma_flm')\n",
    "sigma_c=symbols('sigma_c')\n",
    "P_T = symbols('P_T', cls=Function)(b)\n",
    "\n",
    "# Define the equation\n",
    "\n",
    "def P_T_func(b=b,rho=rho, m=m, V_s=V_s,f_B=f_B, sigma_flm=sigma_flm, sigma_c=sigma_c):\n",
    "    # Make x an UnevaluatedExpr\n",
    "    b=UnevaluatedExpr(b)\n",
    "    rho=UnevaluatedExpr(rho)\n",
    "    m=UnevaluatedExpr(m)  \n",
    "    V_s=UnevaluatedExpr(V_s)\n",
    "    sigma_flm=UnevaluatedExpr(sigma_flm)\n",
    "    sigma_c=UnevaluatedExpr(sigma_c)    \n",
    "    \n",
    "\n",
    "    return Eq(P_T,Mul( Mul(((rho * b**2) / m) , (V_s / (f_B*b))**2, evaluate=False),((sigma_flm*b)/sigma_c),evaluate=False))\n"
   ]
  },
  {
   "cell_type": "code",
   "execution_count": 11,
   "id": "a95078a9-b491-4803-bfe3-2c6e2e73aa05",
   "metadata": {},
   "outputs": [
    {
     "data": {
      "image/png": "[encoded data removed]",
      "text/latex": [
       "$\\displaystyle P_{T}{\\left(b \\right)} = \\rho b^{2} m^{-1} \\frac{\\left(V_{s} b^{-1}\\right)^{2}}{f_{B}^{2}} \\sigma_{flm} b \\sigma_{c}^{-1}$"
      ],
      "text/plain": [
       "                          2              \n",
       "                  ⎛    -1⎞               \n",
       "            2  -1 ⎝Vₛ⋅b  ⎠             -1\n",
       "P_T(b) = ρ⋅b ⋅m  ⋅─────────⋅σ_flm⋅b⋅σ_c  \n",
       "                        2                \n",
       "                     f_B                 "
      ]
     },
     "metadata": {},
     "output_type": "display_data"
    }
   ],
   "source": [
    "display(P_T_func())"
   ]
  },
  {
   "cell_type": "markdown",
   "id": "3ab2c54d-7b92-49f1-bb8a-03ef5aa698d2",
   "metadata": {},
   "source": [
    "$V_s$ is the site hourly mean wind speed ($10m$ above ground level) as per BD 37 (DMRB 1.3);\n",
    "\n",
    "$\\sigma_{flm}$ is the peak stress in the structure per unit deflection in the first mode of vibration, derived for the most highly stressed location in the relevant element:\n",
    "\n",
    "$\\sigma_c$ is a reference stress as follows:\n",
    "\n",
    "for steel beam elements, $\\sigma_c = 600 N/mm2$ for the\n",
    "c longitudinal flange bending stress; or\n",
    "for truss bridges, $\\sigma_c = 750 N/mm2$ for the chord\n",
    "axial stress; or for concrete elements (composite or concretebridges), $\\sigma_c = 80 N/mm2$ for the primary bending \n",
    "concrete stress; or for cable-stayed bridges the peak stay axial stress should additionally be examined, with $\\sigma_c = 1200 N/mm2$."
   ]
  },
  {
   "cell_type": "markdown",
   "id": "f30065b6-4679-4f82-be89-36a3b17e9a25",
   "metadata": {},
   "source": [
    "#### 2.1.3.2 Galloping and stall flutter\n",
    "\n",
    "**(a) Vertical motion**\n",
    "\n",
    "Vertical motion need be considered only for bridges of types 3, 3A, 4 and 4A as shown in Figure 1, and only if $b < 4d_4$.\n",
    "\n",
    "**(b) Torsional motion**"
   ]
  },
  {
   "cell_type": "code",
   "execution_count": 30,
   "id": "c5c87047-4cbc-450d-9e94-fa386c2f5fac",
   "metadata": {},
   "outputs": [],
   "source": [
    "V_Rg=symbols(\"V_Rg\")\n",
    "V_g=symbols(\"V_g\")\n",
    "\n",
    "def V_g_func_0(bridge_type,motion, V_Rg=V_Rg, f_B=f_B, f_T=f_T,b=b, d_4=d_4):\n",
    "    \n",
    "    V_Rg=UnevaluatedExpr(V_Rg)\n",
    "    f_B=UnevaluatedExpr(f_B)\n",
    "    f_T=UnevaluatedExpr(f_T)\n",
    "    b=UnevaluatedExpr(b)\n",
    "    d_4=UnevaluatedExpr(d_4)\n",
    "    if bridge_type in [\"1\",\"1A\",\"2\",\"5\",\"6\"]:\n",
    "        if motion==\"Torsional\":\n",
    "            val=3.3*f_T\n",
    "        if motion==\"Vertical\":\n",
    "            val=float(\"nan\")\n",
    "    else:\n",
    "        if motion==\"Vertical\":\n",
    "            \n",
    "            val=V_Rg * f_B * d_4\n",
    "        else:\n",
    "            val3=Min(5.5*f_T*b, 12*f_T*d_4)\n",
    "            val4=5.5*f_T*b\n",
    "            \n",
    "            cond3=(b<4*d_4)\n",
    "            cond4=(b>=4*d_4)\n",
    "            \n",
    "            val=Piecewise((val3,cond3), (val4, cond4))\n",
    "    \n",
    "    return Eq(V_g,val, evaluate=False)\n",
    "\n"
   ]
  },
  {
   "cell_type": "code",
   "execution_count": 31,
   "id": "17c43e09-39de-47e7-91f3-7b20aeb795c7",
   "metadata": {},
   "outputs": [
    {
     "data": {
      "image/png": "[encoded data removed]",
      "text/latex": [
       "$\\displaystyle V_{g} = V_{Rg} f_{B} d_{4}$"
      ],
      "text/plain": [
       "V_g = V_Rg⋅f_B⋅d₄"
      ]
     },
     "metadata": {},
     "output_type": "display_data"
    }
   ],
   "source": [
    "display(V_g_func_0(bridge_type=\"3\",motion=\"Vertical\"))"
   ]
  },
  {
   "cell_type": "code",
   "execution_count": 32,
   "id": "a86d7ae3-de23-42d7-bf10-9288e54d7a68",
   "metadata": {},
   "outputs": [],
   "source": [
    "def V_g_func(bridge_type, motion, b=b, b_0=b_0, m=m, rho=rho, d_4=d_4, f_B=f_B, f_T=f_T, delta_s=delta_s):\n",
    "   # b=UnevaluatedExpr(b)\n",
    "    #b_0=UnevaluatedExpr(b_0)\n",
    "   # m=UnevaluatedExpr(m)\n",
    "   # rho=UnevaluatedExpr(rho)\n",
    "   # d_4=UnevaluatedExpr(d_4)\n",
    "    #f_B=UnevaluatedExpr(f_B)\n",
    "   # f_T=UnevaluatedExpr(f_T)\n",
    "   # delta_s=UnevaluatedExpr(delta_s)\n",
    "\n",
    "    b = float(b)\n",
    "    b_0 = float(b_0)\n",
    "\n",
    "    if bridge_type in [\"1\", \"1A\", \"2\", \"5\", \"6\"]:\n",
    "        if motion == \"Torsional\":\n",
    "            val = 3.3 * f_T\n",
    "        if motion == \"Vertical\":\n",
    "            val = float(\"nan\")\n",
    "    if bridge_type in [\"3\", \"3A\", \"4\", \"4A\"]:\n",
    "        if motion == \"Vertical\":\n",
    "            C_g=C_g_func(bridge_type, b=b, b_0=b_0, d_4=d_4)\n",
    "            V_Rg=V_Rg_func(C_g=C_g, m=m, delta_s=delta_s, rho=rho, d_4=d_4)\n",
    "            val=V_Rg * f_B * d_4\n",
    "\n",
    "        if motion == \"Torsional\":\n",
    "            overhang = (b - b_0) / 2\n",
    "            val1 = 2.0\n",
    "            val2 = 1.0\n",
    "            cond1 = (bridge_type in [\"3\", \"4\"]) & (overhang >= 0.7 * d_4)\n",
    "            cond2 = (overhang < 0.7 * d_4)\n",
    "            C_g = Piecewise((val1, cond1), (val2, cond2), (float('nan'), True))\n",
    "            \n",
    "            if C_g is not None:\n",
    "                V_Rg = C_g * (m * delta_s) / rho * d_4**2\n",
    "                val = V_Rg * f_B * d_4\n",
    "            else:\n",
    "                val = float('nan')\n",
    "        else:\n",
    "            val3 = Min(5.5 * f_T * b, 12 * f_T * d_4)\n",
    "            val4 = 5.5 * f_T * b\n",
    "            \n",
    "            cond3 = (b < 4 * d_4)\n",
    "            cond4 = (b >= 4 * d_4)\n",
    "            \n",
    "            val = Piecewise((val3, cond3), (val4, cond4))\n",
    "\n",
    "    return Eq(V_g, val, evaluate=False)\n"
   ]
  },
  {
   "cell_type": "code",
   "execution_count": 39,
   "id": "e706c3ec-cdcb-4a75-8738-825c4f571231",
   "metadata": {},
   "outputs": [
    {
     "data": {
      "text/latex": [
       "$\\displaystyle V_{g} = \\begin{cases} \\min\\left(5.5 f_{T} b, 12 f_{T} d_{4}\\right) & \\text{for}\\: b < 4 d_{4} \\\\5.5 f_{T} b & \\text{otherwise} \\end{cases}$"
      ],
      "text/plain": [
       "      ⎧Min(5.5*f_T*b, 12*f_T*d_4)  for b < 4⋅d₄\n",
       "V_g = ⎨                                        \n",
       "      ⎩        5.5⋅f_T⋅b            otherwise  "
      ]
     },
     "metadata": {},
     "output_type": "display_data"
    }
   ],
   "source": [
    "display(V_g_func(bridge_type=\"3A\",motion=\"Torsional\"))"
   ]
  },
  {
   "cell_type": "code",
   "execution_count": null,
   "id": "ccf0f35f-8d6e-4f1d-8871-2a5b80c5d892",
   "metadata": {},
   "outputs": [],
   "source": []
  },
  {
   "cell_type": "code",
   "execution_count": null,
   "id": "fef3ef56-9dfc-4f6b-b759-90e7d71f1808",
   "metadata": {},
   "outputs": [],
   "source": []
  },
  {
   "cell_type": "code",
   "execution_count": null,
   "id": "9192a280-d5ac-4d42-ac22-c7c88f1c3828",
   "metadata": {},
   "outputs": [],
   "source": []
  },
  {
   "cell_type": "code",
   "execution_count": null,
   "id": "f081eed3-f6b0-4b4e-bf38-2de3e4c166f7",
   "metadata": {},
   "outputs": [],
   "source": [
    "\n",
    "\n",
    "C_g=symbols('C_g')\n",
    "\n",
    "def C_g_func(bridge_type, b=b, b_0=b_0, d_4=d_4):\n",
    "    overhang = (b - b_0) / 2\n",
    "    b_0 = UnevaluatedExpr(b_0)\n",
    "    b = UnevaluatedExpr(b)\n",
    "    d_4 = UnevaluatedExpr(d_4)\n",
    "    val = Piecewise((2.0, (bridge_type in [\"3\", \"4\"]) & (overhang >= 0.7 * d_4)),\n",
    "                   (1.0, (bridge_type in [\"3\", \"3A\", \"4\", \"4A\"]) & (overhang < 0.7 * d_4)),\n",
    "                   (float('nan'), True))\n",
    "    return val#Eq(C_g, val, evaluate=False)\n",
    "\n",
    "c=C_g_func(bridge_type=\"3\", b=12.6, b_0=6.3, d_4=3.8).doit()\n",
    "c"
   ]
  },
  {
   "cell_type": "code",
   "execution_count": null,
   "id": "5315243c-d950-48af-9d49-1cdc435feca1",
   "metadata": {},
   "outputs": [],
   "source": [
    "V_g, V_Rg, f_B, f_T, b, d_4 , delta_s,rho,b_0 = symbols('V_g V_Rg f_B f_T b d_4 delta_s rho b_0')\n",
    "\n",
    "def V_Rg_func(C_g=C_g, m=m, delta_s=delta_s, rho=rho, d_4=d_4):\n",
    "    C_g = UnevaluatedExpr(C_g)\n",
    "    delta_s = UnevaluatedExpr(delta_s)\n",
    "    rho=UnevaluatedExpr(rho)\n",
    "    d_4 = UnevaluatedExpr(d_4)\n",
    "    result = C_g*(m*delta_s)/rho*d_4**2\n",
    "\n",
    "    return result#Eq(V_Rg, result, evaluate=False)"
   ]
  },
  {
   "cell_type": "code",
   "execution_count": null,
   "id": "b3f42b10-51ec-4756-9d21-8f771dabf953",
   "metadata": {},
   "outputs": [],
   "source": [
    "rg=V_Rg_func(C_g=c, m=6306, delta_s=0.5, rho=1.226, d_4=3.8).doit()\n",
    "display(Eq(V_Rg,round_expr(rg)))"
   ]
  },
  {
   "cell_type": "code",
   "execution_count": null,
   "id": "9d93d6e1-3ee1-4286-adcc-4414bd4efbcc",
   "metadata": {},
   "outputs": [],
   "source": []
  },
  {
   "cell_type": "code",
   "execution_count": null,
   "id": "3612cfad-f1e9-4a3c-b9c9-d6ccbb68425f",
   "metadata": {},
   "outputs": [],
   "source": [
    "def V_g_func(bridge_type, motion, b=b, b_0=b_0, m=m, rho=rho, d_4=d_4, f_B=f_B, f_T=f_T, delta_s=delta_s):\n",
    "\n",
    "    b = float(b)\n",
    "    b_0 = float(b_0)\n",
    "\n",
    "    if bridge_type in [\"1\", \"1A\", \"2\", \"5\", \"6\"]:\n",
    "        if motion == \"Torsional\":\n",
    "            val = 3.3 * f_T\n",
    "        if motion == \"Vertical\":\n",
    "            val = float(\"nan\")\n",
    "    else:\n",
    "        if motion == \"Vertical\":\n",
    "            overhang = (b - b_0) / 2\n",
    "            val1 = 2.0\n",
    "            val2 = 1.0\n",
    "            cond1 = (bridge_type in [\"3\", \"4\"]) & (overhang >= 0.7 * d_4)\n",
    "            cond2 = (overhang < 0.7 * d_4)\n",
    "            C_g = Piecewise((val1, cond1), (val2, cond2), (float('nan'), True))\n",
    "            \n",
    "            if C_g is not None:\n",
    "                V_Rg = C_g * (m * delta_s) / rho * d_4**2\n",
    "                val = V_Rg * f_B * d_4\n",
    "            else:\n",
    "                val = float('nan')\n",
    "        else:\n",
    "            val3 = Min(5.5 * f_T * b, 12 * f_T * d_4)\n",
    "            val4 = 5.5 * f_T * b\n",
    "            \n",
    "            cond3 = (b < 4 * d_4)\n",
    "            cond4 = (b >= 4 * d_4)\n",
    "            \n",
    "            val = Piecewise((val3, cond3), (val4, cond4))\n",
    "\n",
    "    return Eq(V_g, val, evaluate=False)"
   ]
  },
  {
   "cell_type": "code",
   "execution_count": null,
   "id": "57c6e475-7e78-4c12-a068-aaad1e6204b5",
   "metadata": {},
   "outputs": [],
   "source": [
    "V_g=V_g_func(bridge_type=\"3\",motion=\"Vertical\",b=12.6, b_0=6.3,m=6306,rho=1.226, d_4=3.8, f_B=1.17, f_T=1.3, delta_s=0.5)\n",
    "display(round_equation(V_g))"
   ]
  },
  {
   "cell_type": "markdown",
   "id": "e060acaf-51f9-4f4e-a920-38c1e83002b8",
   "metadata": {},
   "source": [
    "where\n",
    "\n",
    "$f_B, m$ and $\\rho$ are as defined in 2.1;\n",
    "\n",
    "$C_g$ is $2.0$ for bridges of type 3 and 4 with side overhang greater than $0.7d_4$ or $1.0$ for bridges of type 3, 3A, 4 and 4A with side overhang less than or equal to $0.7d_4$;\n",
    "\n",
    "$\\delta_s$ is the logarithmic decrement of damping, as specified in 3.1.2,\n",
    "\n",
    "$d_4$ is the reference depth of the bridge shown in Figure 1, as defined in 2.1.1.2.\n",
    "\n",
    "Alternatively, wind tunnel tests shall be undertaken to determine the value of $V_g$.\n"
   ]
  },
  {
   "cell_type": "markdown",
   "id": "b2d0cd60-47b9-403c-8c91-098d42d445e5",
   "metadata": {},
   "source": [
    "#### 2.1.3.3 Classical flutter\n",
    "The critical wind speed for classical flutter, $V_f$, shall be calculated from the reduced critical wind speed:\n"
   ]
  },
  {
   "cell_type": "code",
   "execution_count": null,
   "id": "7c57d9d9-cf43-4104-b627-fcb875dc3432",
   "metadata": {},
   "outputs": [],
   "source": [
    "# define the symbols:\n",
    "\n",
    "V_Rf =symbols('V_Rf')\n",
    "V_f=symbols('V_f')\n",
    "r=symbols('r')\n",
    "\n",
    "\n",
    "\n",
    "def V_f_func(V_Rf=V_Rf,f_T=f_T,b=b):\n",
    "    V_Rf=UnevaluatedExpr(V_Rf)\n",
    "    val=V_Rf*f_T*b\n",
    "    return Eq(V_f,val)\n",
    "\n",
    "display(V_f_func())\n",
    "\n",
    "\n",
    "def V_Rf_func(f_B=f_B, f_T=f_T, m=m, r=r, rho=rho,b=b):\n",
    "    f_B=UnevaluatedExpr(f_B)\n",
    "    f_T=UnevaluatedExpr(f_T)\n",
    "    f_B=UnevaluatedExpr(f_B)\n",
    "    m=UnevaluatedExpr(m)\n",
    "    r=UnevaluatedExpr(r)\n",
    "    rho=UnevaluatedExpr(rho)\n",
    "    b=UnevaluatedExpr(b)\n",
    "    \n",
    "    a1=(1-1.1*(f_B/f_T)**2)#**(1/2)\n",
    "    a2=Pow(a1,(1/2), evaluate=False)\n",
    "    val=1.8*a2*((m*r)/(rho*b**3))**(1/2)\n",
    "   \n",
    "    return Eq(V_Rf,val)\n",
    "    \n",
    "display(V_Rf_func())\n",
    "print(f'\\nSubstituting V_Rf in to V_f:')\n",
    "display(V_f_func(V_Rf=V_Rf_func().rhs))"
   ]
  },
  {
   "cell_type": "markdown",
   "id": "78f09510-d710-404b-99e1-063e75fd0cc5",
   "metadata": {},
   "source": [
    "$r$ is the polar radius of gyration of the effective bridge cross section at the centre of the main span (polar second moment of mass/mass)1⁄2."
   ]
  },
  {
   "cell_type": "code",
   "execution_count": null,
   "id": "b1eb1cca-ab10-424f-90fa-28013af16dc7",
   "metadata": {},
   "outputs": [],
   "source": [
    "I_x=symbols('I_x')\n",
    "I_y=symbols('I_y')\n",
    "A=symbols('A') # A\n",
    "\n",
    "def r_func(I_x=I_x,I_y=I_y,A=A):\n",
    "    I_z=I_x+I_y\n",
    "    val=(I_z/A)\n",
    "    return Eq(r, val)\n",
    "\n",
    "display(r_func())"
   ]
  },
  {
   "cell_type": "markdown",
   "id": "7a647702-f34e-4bdc-aa02-45960fd39ddc",
   "metadata": {},
   "source": [
    "#### 2.1.3.4 Limiting criteria"
   ]
  },
  {
   "cell_type": "code",
   "execution_count": null,
   "id": "ad9c5185-12fc-46f3-b42f-05f925f08cb1",
   "metadata": {},
   "outputs": [],
   "source": [
    "\n",
    "# define the symbols\n",
    "V_WO= symbols('V_WO')\n",
    "V_d=symbols('V_d')\n",
    "K_1A=symbols('K_1A')\n",
    "\n",
    "def V_WO_func(V_r=V_r, V_d=V_d, K_1A=K_1A):\n",
    "    V_r=UnevaluatedExpr(V_r)\n",
    "    V_d=UnevaluatedExpr(V_d)\n",
    "    K_1A=UnevaluatedExpr(K_1A)\n",
    "    \n",
    "    val= round_expr((1.1/3)*(V_r+2*V_d)*K_1A,2)\n",
    "    return Eq(V_WO,round_expr(val),evaluate=False)\n"
   ]
  },
  {
   "cell_type": "code",
   "execution_count": null,
   "id": "fac5d027-48a7-4b15-891d-4c0f1531f1c5",
   "metadata": {},
   "outputs": [],
   "source": [
    "display(V_WO_func())"
   ]
  },
  {
   "cell_type": "code",
   "execution_count": null,
   "id": "a2bcdbf7-1baa-43b2-a840-9e5c636cf0aa",
   "metadata": {},
   "outputs": [],
   "source": [
    "# define the symbols\n",
    "c=symbols(\"c\")\n",
    "r=symbols(\"r\")\n",
    "y_max=symbols(\"y_max\")\n",
    "\n",
    "def y_max_func_0(bridge_type, motion,c=c, b=b, d_4=d_4,rho=rho,m=m,delta_s=delta_s,r=r):\n",
    "    bridge_types = [\"1\", \"1A\", \"2\", \"3\", \"3A\", \"4\", \"4A\", \"5\", \"6\"]\n",
    "    c=UnevaluatedExpr(c)\n",
    "    b=UnevaluatedExpr(b)\n",
    "    d_4=UnevaluatedExpr(d_4)\n",
    "    rho=UnevaluatedExpr(rho)\n",
    "    m=UnevaluatedExpr(m)\n",
    "    delta_s=UnevaluatedExpr(delta_s)\n",
    "    r=UnevaluatedExpr(r)\n",
    "    \n",
    "    #calculate c:\n",
    "    k, h, phi=symbols('k h phi')\n",
    "    \n",
    "    def c_func(k=k, h=h, phi=phi,d_4=d_4):\n",
    "        k=UnevaluatedExpr(k)\n",
    "        h=UnevaluatedExpr(h)\n",
    "        phi=UnevaluatedExpr(phi)   \n",
    "        val_c=3*(k+h*phi)/d_4\n",
    "        \n",
    "        return  val_c\n",
    "    \n",
    "    \n",
    "    \n",
    "    val1=(c*b**0.5*d_4**2.5*rho)/(4*m*delta_s)\n",
    "    val2=(c*b**1.5*d_4**3.5*rho)/(8*m*r**2*delta_s)\n",
    "    val3=str(\"Ignored\")\n",
    "    \n",
    "    cond1=(bridge_type in bridge_types) & (motion==\"Vertical\")\n",
    "    cond2=(bridge_type in [\"1\", \"1A\",\"3\",\"3A\",\"4\",\"4A\"]) & (motion==\"Torsional\")\n",
    "    cond3=(bridge_type in [\"2\",\"5\",\"6\"]) & (motion==\"Torsional\")\n",
    "    \n",
    "    if c == symbols('c'):\n",
    "    \n",
    "        if cond1:\n",
    "            val=val1\n",
    "        if cond2:\n",
    "            val=val2\n",
    "        if cond3:\n",
    "            val=val3\n",
    "    if c==c_func():\n",
    "        \n",
    "        val=\"hello\"\n",
    "        \n",
    "        \n",
    "        \n",
    "    return Eq(y_max,val, evaluate=False)\n",
    "    \n",
    "    \n",
    "\n"
   ]
  },
  {
   "cell_type": "code",
   "execution_count": null,
   "id": "a115ff3f-31b3-4f96-a7f6-15383f2ef4ec",
   "metadata": {},
   "outputs": [],
   "source": [
    "display(y_max_func_0(bridge_type=\"1\", motion=\"Torsional\"))"
   ]
  },
  {
   "cell_type": "code",
   "execution_count": null,
   "id": "10d32035-9a7d-46a2-998f-b6d8a7ffc4c5",
   "metadata": {},
   "outputs": [],
   "source": [
    "# Define the symbols\n",
    "c = symbols(\"c\")\n",
    "r = symbols(\"r\")\n",
    "y_max = symbols(\"y_max\")\n",
    "k, h, phi = symbols('k h phi')\n",
    "\n",
    "def c_func(k=k, h=h, phi=phi, d_4=d_4):\n",
    "    return 3 * (k + h * phi) / d_4\n",
    "\n",
    "def y_max_func_0(bridge_type, motion, c=c, b=b, d_4=d_4, rho=rho, m=m, delta_s=delta_s, r=r):\n",
    "    bridge_types = [\"1\", \"1A\", \"2\", \"3\", \"3A\", \"4\", \"4A\", \"5\", \"6\"]\n",
    "    \n",
    "\n",
    "    val1 = (c * b**0.5 * d_4**2.5 * rho) / (4 * m * delta_s)\n",
    "    text1=str(\"For vertical flexural vibrations and for bridge types 1 to 6\")\n",
    "    val2 = (c * b**1.5 * d_4**3.5 * rho) / (8 * m * r**2 * delta_s)\n",
    "    val3 = str(\"y_max may be ignored for torsional vibrations for bridge types 2, 5 and 6\")\n",
    "    \n",
    "    cond1 = (bridge_type in bridge_types) and (motion == \"Vertical\")\n",
    "    cond2 = (bridge_type in [\"1\", \"1A\", \"3\", \"3A\", \"4\", \"4A\"]) and (motion == \"Torsional\")\n",
    "    cond3 = (bridge_type in [\"2\", \"5\", \"6\"]) and (motion == \"Torsional\")\n",
    "    \n",
    "    \n",
    "      # Calculate c based on the provided values or the function c_func if c is a symbol\n",
    "    if c == symbols('c'):\n",
    "        #k, h, phi = symbols('k h phi')\n",
    "        #c = c_func(k, h, phi, d_4)\n",
    "        if cond1:\n",
    "            print(text1)\n",
    "            val = val1\n",
    "        elif cond2:\n",
    "            print(text1)\n",
    "            val = val2\n",
    "        elif cond3:\n",
    "            return val3\n",
    "        return Eq(y_max, val, evaluate=False)\n",
    "        \n",
    "    if c is not symbols('c'):\n",
    "        \n",
    "        c = c_func(k, h, phi, d_4)\n",
    "        if cond1:\n",
    "            print(text1)\n",
    "            val = val1\n",
    "        elif cond2:\n",
    "            print(text1)\n",
    "            val = val2\n",
    "        elif cond3:\n",
    "            return val3\n",
    "        return Eq(y_max, val)\n",
    "        \n",
    "\n",
    "        \n",
    "  "
   ]
  },
  {
   "cell_type": "code",
   "execution_count": null,
   "id": "58a1c231-1ea7-495c-828a-334f2d7ac95b",
   "metadata": {},
   "outputs": [],
   "source": [
    "y_max_func_0(bridge_type=\"1\", motion=\"Torsional\")#)#, c=c_func()"
   ]
  },
  {
   "cell_type": "code",
   "execution_count": null,
   "id": "3e75ac45-5563-48db-b2a3-edac297a53cc",
   "metadata": {},
   "outputs": [],
   "source": [
    "y_max_func_0(bridge_type=\"2\", motion=\"Vertical\")#, c=c_func()"
   ]
  },
  {
   "cell_type": "code",
   "execution_count": null,
   "id": "09f32272-ce36-4305-b7d4-832176ccfc36",
   "metadata": {},
   "outputs": [],
   "source": [
    "\n",
    "# Define the symbols\n",
    "c = symbols(\"c\")\n",
    "r = symbols(\"r\")\n",
    "y_max = symbols(\"y_max\")\n",
    "k, h, phi, d_4 = symbols('k h phi d_4')\n",
    "\n",
    "def c_func(k=k, h=h, phi=phi, d_4=d_4):\n",
    "    return 3 * (k + h * phi) / d_4\n",
    "\n",
    "def y_max_func(bridge_type, motion, c=c, b=b, d_4=d_4, rho=rho, m=m, delta_s=delta_s, r=r):\n",
    "    bridge_types = [\"1\", \"1A\", \"2\", \"3\", \"3A\", \"4\", \"4A\", \"5\", \"6\"]\n",
    "    \n",
    "\n",
    "    val1 = (c * b**0.5 * d_4**2.5 * rho) / (4 * m * delta_s)\n",
    "    val2 = (c * b**1.5 * d_4**3.5 * rho) / (8 * m * r**2 * delta_s)\n",
    "    text3 = str(\"y_max may be ignored for torsional vibrations for bridge types 2, 5 and 6\")\n",
    "    \n",
    "    text1=str(\"For vertical flexural vibrations and for bridge types 1 to 6\")\n",
    "    cond1 = (bridge_type in bridge_types) and (motion == \"Vertical\")\n",
    "    text2=str(\"For torsional vibrations and for bridge types 1, 1A, 3, 3A, 4 and 4A\")\n",
    "    cond2 = (bridge_type in [\"1\", \"1A\", \"3\", \"3A\", \"4\", \"4A\"]) and (motion == \"Torsional\")\n",
    "    cond3 = (bridge_type in [\"2\", \"5\", \"6\"]) and (motion == \"Torsional\")\n",
    "    \n",
    "    \n",
    "      # Calculate c based on the provided values or the function c_func if c is a symbol\n",
    "    if c == symbols('c'):\n",
    "        #k, h, phi = symbols('k h phi')\n",
    "        #c = c_func(k, h, phi, d_4)\n",
    "        if cond1:\n",
    "            text=text1\n",
    "            val = val1\n",
    "        elif cond2:\n",
    "            text=text2\n",
    "            val = val2\n",
    "        elif cond3:\n",
    "            return(text3)\n",
    "        return Eq(y_max, val, evaluate=False)\n",
    "        \n",
    "    if c is not symbols('c'):\n",
    "        \n",
    "        c = c_func(k, h, phi, d_4)\n",
    "        if cond1:\n",
    "            text=text1\n",
    "            val = val1\n",
    "        elif cond2:\n",
    "            text=text2\n",
    "            val = val2\n",
    "        elif cond3:\n",
    "            return(text3)\n",
    "        return text, Eq(y_max, val)\n"
   ]
  },
  {
   "cell_type": "code",
   "execution_count": null,
   "id": "16f62fe3-c1d3-42bf-aa36-5916c172a091",
   "metadata": {},
   "outputs": [],
   "source": [
    "y_max_func(bridge_type=\"2\", motion=\"Vertical\")"
   ]
  },
  {
   "cell_type": "code",
   "execution_count": null,
   "id": "399a4ac1-5850-472e-8589-a03d8f831b35",
   "metadata": {},
   "outputs": [],
   "source": []
  },
  {
   "cell_type": "code",
   "execution_count": null,
   "id": "31e1228f-3de3-48fe-9a1a-ea2f8137b67c",
   "metadata": {},
   "outputs": [],
   "source": []
  }
 ],
 "metadata": {
  "kernelspec": {
   "display_name": "Python 3 (ipykernel)",
   "language": "python",
   "name": "python3"
  },
  "language_info": {
   "codemirror_mode": {
    "name": "ipython",
    "version": 3
   },
   "file_extension": ".py",
   "mimetype": "text/x-python",
   "name": "python",
   "nbconvert_exporter": "python",
   "pygments_lexer": "ipython3",
   "version": "3.9.16"
  }
 },
 "nbformat": 4,
 "nbformat_minor": 5
}
