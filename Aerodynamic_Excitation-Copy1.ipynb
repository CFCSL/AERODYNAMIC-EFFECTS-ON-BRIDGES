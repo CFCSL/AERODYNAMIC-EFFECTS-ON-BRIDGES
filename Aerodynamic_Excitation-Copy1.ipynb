{
 "cells": [
  {
   "cell_type": "markdown",
   "id": "6f48d3ae-192c-46dd-826b-1317100cf8c4",
   "metadata": {},
   "source": [
    "# 2. SUSCEPTIBILITY TO AERODYNAMIC EXCITATION"
   ]
  },
  {
   "cell_type": "markdown",
   "id": "f1a11157-16bc-458d-b8ae-b962a772aac9",
   "metadata": {},
   "source": [
    "This section shall be used to determine the susceptibility of a bridge to aerodynamic excitation. If the structure is found to be susceptible to aerodynamic excitation then the additional requirements of 3 shall be followed.\n",
    "\n",
    "## 2.1 Criteria for applicability and consideration of aerodynamic effects\n",
    "The aerodynamic susceptibility parameter, Pb, shall be derived in order to categorise the structure using the equation:"
   ]
  },
  {
   "cell_type": "code",
   "execution_count": 1,
   "id": "60f10db0-0c08-4dee-ae55-fef768a42658",
   "metadata": {},
   "outputs": [],
   "source": [
    "from sympy import symbols, Eq, Function,UnevaluatedExpr, Mul\n",
    "from sympy import *\n",
    "from  Aerodynamic_Excitation import *\n",
    "\n",
    "bridge_types = [\"1\", \"1A\", \"2\", \"3\", \"3A\", \"4\", \"4A\", \"5\", \"6\"]\n",
    "\n",
    "motions=[\"Vertical\", \"Torsional\"]\n",
    "\n",
    "rho=1.226\n",
    "\n",
    "b=12.6\n",
    "m= 6306.\n",
    "L= 96.673\n",
    "\n",
    "V_r=20.0\n",
    "\n",
    "b_0=b/2\n",
    "\n",
    "d_4= 3.8\n",
    "\n",
    "f_B= 1.17\n",
    "\n",
    "f_T=1.30\n"
   ]
  },
  {
   "cell_type": "code",
   "execution_count": 2,
   "id": "05a3efc2-342c-40df-881d-c20c55d46ed5",
   "metadata": {},
   "outputs": [
    {
     "data": {
      "image/png": "[encoded data removed]",
      "text/latex": [
       "$\\displaystyle P{\\left(b \\right)} = \\rho b^{2} m^{-1} \\cdot 16 V_{r}^{2} \\left(b L f_{B}^{2}\\right)^{-1}$"
      ],
      "text/plain": [
       "                                 -1\n",
       "          2  -1      2 ⎛       2⎞  \n",
       "P(b) = ρ⋅b ⋅m  ⋅16⋅Vᵣ ⋅⎝b⋅L⋅f_B ⎠  "
      ]
     },
     "metadata": {},
     "output_type": "display_data"
    },
    {
     "data": {
      "image/png": "[encoded data removed]",
      "text/latex": [
       "$\\displaystyle P{\\left(b \\right)} = 1.226 \\cdot 12.6^{2} \\cdot 6306.0^{-1} \\cdot 16 \\cdot 20.0^{2} \\left(12.6 \\cdot 96.673 \\cdot 1.17^{2}\\right)^{-1}$"
      ],
      "text/plain": [
       "                                                        -1\n",
       "                 2       -1        2 ⎛                2⎞  \n",
       "P(b) = 1.226⋅12.6 ⋅6306.0  ⋅16⋅20.0 ⋅⎝12.6⋅96.673⋅1.17 ⎠  "
      ]
     },
     "metadata": {},
     "output_type": "display_data"
    },
    {
     "data": {
      "image/png": "[encoded data removed]",
      "text/latex": [
       "$\\displaystyle P{\\left(b \\right)} = 0.118$"
      ],
      "text/plain": [
       "P(b) = 0.118"
      ]
     },
     "metadata": {},
     "output_type": "display_data"
    }
   ],
   "source": [
    "display(P_func())\n",
    "display(P_func(b=b,rho=rho, m=m, V_r=V_r,L=L,f_B=f_B))\n",
    "display(round_equation(P_func(b=b,rho=rho, m=m, V_r=V_r,L=L,f_B=f_B).doit()))\n",
    "\n"
   ]
  },
  {
   "cell_type": "markdown",
   "id": "bd34d976-1e52-4b8d-a449-5cf4111aad34",
   "metadata": {},
   "source": [
    "where\n",
    "\n",
    "$\\rho \\quad$ is the density of air (see NOTE 1);\n",
    "\n",
    "$b \\quad$ is the overall width of the bridge deck (see\n",
    "Figure 1);\n",
    "\n",
    "$m \\quad$ is the mass per unit length of the bridge (see NOTE 1);\n",
    "\n",
    "$V_r \\quad$ is the hourly mean wind speed (for relieving areas) as per BD 37 (DMRB 1.3);\n",
    "\n",
    "$L \\quad$ is the length of the relevant maximum span of the bridge;\n",
    "\n",
    "$f_B \\quad$ is the natural frequency in bending (see NOTE 2).\n",
    "\n",
    "(a) Bridges designed to carry the loadings specified in BD 37 (DMRB 1.3), built of normal construction, are considered to be subject to insignificant effects in respect of all forms of aerodynamic excitation when $P_b < 0.04$. However the Rules can still be applied if required, provided the constraints of 2.3 are satisfied.\n",
    "\n",
    "(b) Bridges having $0.04 ≤ P_b ≤ 1.00$ shall be considered to be within the scope of these rules, provided the geometric constraints of 2.3 are satisfied, and shall be considered adequate with regard to each potential type of excitation if they satisfy the relevant criteria given in 2.1.1, 2.1.2 and 2.1.3.\n",
    "\n",
    "(c) Bridges with $P_b > 1.00$ shall be considered to be potentially very susceptible to aerodynamic excitation: see 2.2.\n",
    "\n",
    "For the purpose of this categorisation, normal construction may be considered to include bridges constructed in steel, concrete, aluminium or timber, including composite construction, and whose overall shape is generally covered by Figure 1.\n",
    "\n",
    "Normal highway bridges of less than $25 m$ span should generally be found to be category (a). Bridges of spans greater than $250 m$ are likely to be category (c).\n",
    "\n",
    "Covered footbridges, cable supported bridges and other structures where any of the parameters b, L or $f_B$ cannot be accurately derived shall be considered as category (c).\n",
    "\n",
    "The application of these Rules to bridges of novel design shall be agreed with the Overseeing Organisation.\n",
    "\n",
    "The calculation of $V_r$ should take account of sites where the wind flow may be abnormally affected by steep sloping valleys, unusual terrain or topography. The treatment for the application of the Rules for twin deck configurations and the treatment of proximity effects are given in Annex A.\n",
    "\n",
    "NOTE 1: Units shall be applied consistently, particularly with respect to ρ and m; preferably ρ should be in $kg/m^3$, and the material density used for the structure should also be in $kg/m^3$, with other parameters all in consistent units.\n",
    "\n",
    "NOTE 2: Frequencies should be derived by dynamic/eigenvalue analysis of the structure; see Annex B which contains approximate formulae for standard bridge arrangements.\n",
    "\n",
    "NOTE 3: For the purposes of initial/ preliminary categorisation, the following may be used to given an indicative range for $P_b$:\n",
    "\n",
    "$V_r$ between $20$ and $40 m/s$;\n",
    "\n",
    "$m/b$ between $600$ and $1200 kg/m2$;\n",
    "\n",
    "$f_B$ between $50/L^{0.87}$ and $100/L^{0.87}$, but see also NOTE 2.\n",
    "\n",
    "Appropriate upper bound and lower bound values should be derived.\n"
   ]
  },
  {
   "cell_type": "markdown",
   "id": "8ab778a6-5f82-41f1-86b2-b64eafc41d2a",
   "metadata": {},
   "source": [
    "### 2.1.1 Limited amplitude response - vortex excitation\n",
    "\n",
    "#### 2.1.1.1 General\n",
    "\n",
    "Estimates of the critical wind speed for vortex excitation for both bending and torsion ($V_{cr}$) shall be derived according to 2.1.1.2. For certain truss girder bridges see 2.1.1.3(c). The limiting criteria given in 2.1.1.3 shall then be satisfied.\n",
    "\n",
    "#### 2.1.1.2 Criticalwindspeedsforvortex excitation\n",
    "\n",
    "The critical wind speed for vortex excitation, $V_{cr}$, is defined as the velocity of steady air flow or the mean velocity of turbulent flow at which maximum aerodynamic excitation due to vortex shedding occurs and shall be calculated as follows for both vertical bending and torsional modes of vibration of box and plate girder bridges. Alternatively $V_{cr}$ may be determined by appropriate wind tunnel tests on suitable scale models. For truss bridges with solidity $\\phi < 0.5$, refer to 2.1.1.3(c). When $\\phi ≥ 0.5$ the equations for plate girders may be used conservatively, but taking the depth $d_4$ as $\\phi d_4$ (see 2.3 and Figures 1 and 2).\n",
    "\n",
    "\n",
    "\n"
   ]
  },
  {
   "cell_type": "code",
   "execution_count": 3,
   "id": "a75870f4-bb2b-4756-b4dc-1f16ea470893",
   "metadata": {},
   "outputs": [
    {
     "data": {
      "text/latex": [
       "$\\displaystyle V_{cr} = \\begin{cases} 6.5 d_{4} f & \\text{for}\\: \\frac{b_{0}}{d_{4}} \\leq 5 \\\\d_{4} f \\left(\\frac{1.1 b_{0}}{d_{4}} + 1.0\\right) & \\text{for}\\: \\frac{b_{0}}{d_{4}} < 10 \\\\12.0 d_{4} f & \\text{otherwise} \\end{cases}$"
      ],
      "text/plain": [
       "       ⎧                         b₀     \n",
       "       ⎪     6.5⋅d₄⋅f        for ── ≤ 5 \n",
       "       ⎪                         d₄     \n",
       "       ⎪                                \n",
       "V_cr = ⎨     ⎛1.1⋅b₀      ⎞      b₀     \n",
       "       ⎪d₄⋅f⋅⎜────── + 1.0⎟  for ── < 10\n",
       "       ⎪     ⎝  d₄        ⎠      d₄     \n",
       "       ⎪                                \n",
       "       ⎩     12.0⋅d₄⋅f        otherwise "
      ]
     },
     "metadata": {},
     "output_type": "display_data"
    },
    {
     "data": {
      "text/latex": [
       "$\\displaystyle V_{cr} = \\begin{cases} 28.9 & \\text{for}\\: 1.66 \\leq 5 \\\\12.55 & \\text{for}\\: 1.66 < 10 \\\\53.35 & \\text{otherwise} \\end{cases}$"
      ],
      "text/plain": [
       "       ⎧28.9   for 1.66 ≤ 5 \n",
       "       ⎪                    \n",
       "V_cr = ⎨12.55  for 1.66 < 10\n",
       "       ⎪                    \n",
       "       ⎩53.35    otherwise  "
      ]
     },
     "metadata": {},
     "output_type": "display_data"
    },
    {
     "data": {
      "image/png": "[encoded data removed]",
      "text/latex": [
       "$\\displaystyle V_{cr} = 28.9$"
      ],
      "text/plain": [
       "V_cr = 28.9"
      ]
     },
     "metadata": {},
     "output_type": "display_data"
    }
   ],
   "source": [
    "display(V_cr_func(bridge_type=\"1\"))\n",
    "display(V_cr_func(bridge_type=\"1\", b_0=b_0, d_4=d_4, f=f_B)) # f is either f_B or f_T\n",
    "\n",
    "display(V_cr_func(bridge_type=\"1\", b_0=b_0, d_4=d_4, f=f_B).doit())\n"
   ]
  },
  {
   "cell_type": "markdown",
   "id": "523e31a7-b4cc-41f4-a4f8-37294f150ce5",
   "metadata": {},
   "source": [
    "In these equations:\n",
    "\n",
    "$b_0$ (or $b_*$ in the document) is the effective width of the bridge as defined in Figure 1;\n",
    "\n",
    "$d_4$ is the depth of the bridge shown in Figure 1. Where the depth is variable over the span, $d_4$ shall be taken as the average value over the middle third of the longest span;\n",
    "\n",
    "$f$ is either $f_B$ or $f_T$ as appropriate, i.e. the natural frequencies in bending and torsion respectively (Hz) calculated under dead and superimposed dead load. Methods of calculating approximate values of $f_B$ and $f_T$, within certain constraints, are given in Annex B."
   ]
  },
  {
   "cell_type": "markdown",
   "id": "663ddd83-6460-49d2-abae-ce8995829d30",
   "metadata": {},
   "source": [
    "#### 2.1.1.3 Limiting criteria\n",
    "\n",
    "The following conditions shall be used to determine the susceptibility of a bridge to vortex excited vibrations:\n",
    "\n",
    "(a) Any bridge whose fundamental frequency is greater than $5Hz4 shall be considered stable with respect to vortex excitation.\n",
    "\n",
    "(b) Any bridge, including truss bridges (see also (c)), shall be considered stable with respect to vortex excited vibrations if the lowest critical wind speeds, $V_{cr}$, for vortex excitation in both bending and torsion, as defined in 2.1.1.2, exceed the value of reference wind speed $V_vs$, where:\n",
    "$V_{vs} = 1.25 V_r$;\n",
    "\n"
   ]
  },
  {
   "cell_type": "code",
   "execution_count": 4,
   "id": "a70e5d0d-fa8c-41a7-ac84-c9d338f08cb6",
   "metadata": {},
   "outputs": [
    {
     "data": {
      "image/png": "[encoded data removed]",
      "text/latex": [
       "$\\displaystyle V_{vs} = 1.25 V_{r}$"
      ],
      "text/plain": [
       "Vᵥₛ = 1.25⋅Vᵣ"
      ]
     },
     "metadata": {},
     "output_type": "display_data"
    },
    {
     "data": {
      "image/png": "[encoded data removed]",
      "text/latex": [
       "$\\displaystyle V_{vs} = 1.25 \\cdot 20.0$"
      ],
      "text/plain": [
       "Vᵥₛ = 1.25⋅20.0"
      ]
     },
     "metadata": {},
     "output_type": "display_data"
    },
    {
     "data": {
      "image/png": "[encoded data removed]",
      "text/latex": [
       "$\\displaystyle V_{vs} = 25.0$"
      ],
      "text/plain": [
       "Vᵥₛ = 25.0"
      ]
     },
     "metadata": {},
     "output_type": "display_data"
    }
   ],
   "source": [
    "\n",
    "display(V_vs_func())\n",
    "display(V_vs_func(V_r=V_r))\n",
    "display(V_vs_func(V_r=V_r).doit())\n"
   ]
  },
  {
   "cell_type": "markdown",
   "id": "cd051e33-c7b8-4df6-8d7d-c801095471ec",
   "metadata": {},
   "source": [
    "$V_r$ is the hourly mean wind speed in accordance with BD 37 (DMRB 1.3) for relieving areas of the bridge deck derived in accordance with BD 37 (DMRB 1.3).\n",
    "\n",
    "(c) In addition, truss girder bridges shall be considered stable with regard to vortex excited vibrations provided $\\phi < 0.5$, where $\\phi$ is the solidity ratio of the front face of the windward truss, defined as the ratio of the net total projected area of the truss components to the projected area encompassed by the outer boundaries of the truss (i.e. excluding the depth of the deck). For trusses with $\\phi ≥ 0.5$, refer to 2.1.1.2.\n",
    "\n",
    "If any one of (a), (b) or (c) is satisfied, then the bridge shall be deemed stable with respect to the effects of vortex excitation. If none of these conditions is satisfied, then the effects of vortex excitation shall be considered in accordance with 3.1\n",
    "\n"
   ]
  },
  {
   "cell_type": "markdown",
   "id": "8ed8a930-f118-442e-90c5-7574d044354b",
   "metadata": {},
   "source": [
    "### 2.1.2 Limited amplitude response - turbulence\n",
    "\n",
    "Provided the fundamental frequencies in both bending and torsion calculated in accordance with 2.1.1.2 are greater than $1Hz$, the dynamic magnification effects of turbulence may be ignored.\n",
    "\n",
    "The dynamic magnification effects of turbulence may also be neglected if:\n",
    "$P_T ≤ 1.0$ \n",
    "\n",
    "where"
   ]
  },
  {
   "cell_type": "code",
   "execution_count": 5,
   "id": "b4a79367-cd28-4488-b320-c47401b58bfe",
   "metadata": {},
   "outputs": [],
   "source": [
    "V_s=37.0\n",
    "sigma_flm= 600.\n",
    "sigma_c= 80."
   ]
  },
  {
   "cell_type": "code",
   "execution_count": 6,
   "id": "897e5c93-742e-4cf7-95a3-59fb812683d5",
   "metadata": {},
   "outputs": [
    {
     "data": {
      "image/png": "[encoded data removed]",
      "text/latex": [
       "$\\displaystyle P_{T}{\\left(b \\right)} = \\frac{\\rho b^{2} m^{-1} \\left(V_{s} b^{-1}\\right)^{2} \\sigma_{flm} b \\sigma_{c}^{-1}}{f_{B}^{2}}$"
      ],
      "text/plain": [
       "                          2              \n",
       "            2  -1 ⎛    -1⎞             -1\n",
       "         ρ⋅b ⋅m  ⋅⎝Vₛ⋅b  ⎠ ⋅σ_flm⋅b⋅σ_c  \n",
       "P_T(b) = ────────────────────────────────\n",
       "                          2              \n",
       "                       f_B               "
      ]
     },
     "metadata": {},
     "output_type": "display_data"
    },
    {
     "data": {
      "image/png": "[encoded data removed]",
      "text/latex": [
       "$\\displaystyle P_{T}{\\left(b \\right)} = 0.73 \\cdot 1.226 \\cdot 12.6^{2} \\cdot 6306.0^{-1} \\left(37.0 \\cdot 12.6^{-1}\\right)^{2} \\cdot 600.0 \\cdot 12.6 \\cdot 80.0^{-1}$"
      ],
      "text/plain": [
       "                                                2                  \n",
       "                        2       -1 ⎛         -1⎞                 -1\n",
       "P_T(b) = 0.73⋅1.226⋅12.6 ⋅6306.0  ⋅⎝37.0⋅12.6  ⎠ ⋅600.0⋅12.6⋅80.0  "
      ]
     },
     "metadata": {},
     "output_type": "display_data"
    },
    {
     "data": {
      "image/png": "[encoded data removed]",
      "text/latex": [
       "$\\displaystyle P_{T}{\\left(b \\right)} = 18.373$"
      ],
      "text/plain": [
       "P_T(b) = 18.373"
      ]
     },
     "metadata": {},
     "output_type": "display_data"
    }
   ],
   "source": [
    "display(P_T_func())\n",
    "display(P_T_func(b=b,rho=rho, m=m, V_s=V_s,f_B=f_B, sigma_flm=sigma_flm, sigma_c=sigma_c)) # substitute the values of parameters here\n",
    "display(round_equation(P_T_func(b=b,rho=rho, m=m, V_s=V_s,f_B=f_B, sigma_flm=sigma_flm, sigma_c=sigma_c).doit()))\n",
    "    "
   ]
  },
  {
   "cell_type": "markdown",
   "id": "3ab2c54d-7b92-49f1-bb8a-03ef5aa698d2",
   "metadata": {},
   "source": [
    "$ρ, b, m, f_B$ are all as defined in 2.1;\n",
    "\n",
    "$V_s$ is the site hourly mean wind speed ($10m$ above ground level) as per BD 37 (DMRB 1.3);\n",
    "\n",
    "$\\sigma_{flm}$ is the peak stress in the structure per unit deflection in the first mode of vibration, derived for the most highly stressed location in the relevant element:\n",
    "\n",
    "$\\sigma_c$ is a reference stress as follows:\n",
    "\n",
    "for steel beam elements, $\\sigma_c = 600 N/mm2$ for the\n",
    "c longitudinal flange bending stress; or\n",
    "\n",
    "for truss bridges, $\\sigma_c = 750 N/mm2$ for the chord axial stress; or \n",
    "\n",
    "for concrete elements (composite or concretebridges), $\\sigma_c = 80 N/mm2$ for the primary bending \n",
    "concrete stress; or\n",
    "\n",
    "for cable-stayed bridges the peak stay axial stress should additionally be examined, with $\\sigma_c = 1200 N/mm2$.\n",
    "\n",
    "**If these conditions are not satisfied the dynamic effects of turbulence response shall be considered in accordance with 3.3.**"
   ]
  },
  {
   "cell_type": "markdown",
   "id": "f30065b6-4679-4f82-be89-36a3b17e9a25",
   "metadata": {},
   "source": [
    "### 2.1.3 Divergent amplitude response \n",
    "\n",
    "#### 2.1.3.1 General\n",
    "\n",
    "Estimates of the critical wind speed for galloping and stall flutter for both bending and torsional motion ($V_g$) and for classical flutter ($V_f$) shall be derived according to 2.1.3.2 and 2.1.3.3 respectively. Alternatively values of $V_g$ and $V_f$ may be determined by wind tunnel tests (see 6). The limiting criteria given in 2.1.3.4 shall then be satisfied.\n",
    "\n",
    "\n",
    "#### 2.1.3.2 Galloping and stall flutter\n",
    "\n",
    "**(a) Vertical motion**\n",
    "\n",
    "Vertical motion need be considered only for bridges of types 3, 3A, 4 and 4A as shown in Figure 1, and only if $b < 4d_4$.\n",
    "\n",
    "Provided the constraints (i) to (iii) in 2.3 are satisfied $V_g$ shall be calculated from the reduced velocity, $V_{Rg}$, using the formula below:\n",
    "\n",
    "\n"
   ]
  },
  {
   "cell_type": "code",
   "execution_count": 7,
   "id": "f3644bea-1b33-4e00-9aff-736cb195bdbd",
   "metadata": {},
   "outputs": [
    {
     "data": {
      "image/png": "[encoded data removed]",
      "text/latex": [
       "$\\displaystyle V_{g} = V_{Rg} f_{B} d_{4}$"
      ],
      "text/plain": [
       "V_g = V_Rg⋅f_B⋅d₄"
      ]
     },
     "metadata": {},
     "output_type": "display_data"
    }
   ],
   "source": [
    "display(V_g_func_0(bridge_type=\"3\",motion=\"Vertical\"))"
   ]
  },
  {
   "cell_type": "markdown",
   "id": "4b539933-b743-4f70-b9c0-6b1621473a40",
   "metadata": {},
   "source": [
    "where"
   ]
  },
  {
   "cell_type": "code",
   "execution_count": 8,
   "id": "b3f32f87-e7c3-43b0-8f52-235e2ff0be97",
   "metadata": {},
   "outputs": [
    {
     "data": {
      "image/png": "[encoded data removed]",
      "text/latex": [
       "$\\displaystyle m C_{g} \\delta_{s} \\rho^{-1} d_{4}^{2}$"
      ],
      "text/plain": [
       "          -1   2\n",
       "m⋅C_g⋅δₛ⋅ρ  ⋅d₄ "
      ]
     },
     "metadata": {},
     "output_type": "display_data"
    }
   ],
   "source": [
    "display(V_Rg_func())\n",
    "#display(V_Rg_func(C_g=C_g, m=m, delta_s=delta_s, rho=rho, d_4=d_4)) \n"
   ]
  },
  {
   "cell_type": "markdown",
   "id": "98e34173-c2f8-45d0-a9da-30146969cc1f",
   "metadata": {},
   "source": [
    "where\n",
    "\n",
    "$f_B, m$ and $\\rho$ are as defined in 2.1;\n",
    "\n",
    "$C_g$ is $2.0$ for bridges of type 3 and 4 with side overhang greater than $0.7 d_4$ or $1.0$ for bridges of type 3, 3A, 4 and 4A with side overhang less than or equal to $0.7d_4$;\n",
    "\n",
    "$\\delta_s$ is the logarithmic decrement of damping, as specified in 3.1.2,\n",
    "\n",
    "$d_4$ is the reference depth of the bridge shown in Figure 1, as defined in 2.1.1.2.\n",
    "\n",
    "Alternatively, wind tunnel tests shall be undertaken to determine the value of $V_g$."
   ]
  },
  {
   "cell_type": "markdown",
   "id": "51f60110-d4c4-46f0-86c2-7697b0c271af",
   "metadata": {},
   "source": [
    "**(b) Torsional motion**\n",
    "\n",
    "Torsional motion shall be considered for all bridge types. Provided the fascia beams and parapets comply with the constraints given in 2.3, then $V_g$ shall be taken as:\n"
   ]
  },
  {
   "cell_type": "code",
   "execution_count": 9,
   "id": "ef9a3fb7-5af9-46b7-a40e-2d967ef1a594",
   "metadata": {},
   "outputs": [
    {
     "data": {
      "image/png": "[encoded data removed]",
      "text/latex": [
       "$\\displaystyle V_{g} = 3.3 f_{T}$"
      ],
      "text/plain": [
       "V_g = 3.3⋅f_T"
      ]
     },
     "metadata": {},
     "output_type": "display_data"
    }
   ],
   "source": [
    "display(V_g_func_0(bridge_type=\"1\",motion=\"Torsional\"))# for bridge types 1, 1A, 2, 5 and 6"
   ]
  },
  {
   "cell_type": "code",
   "execution_count": 10,
   "id": "c35b211b-2c14-48bb-8283-22e4a80df689",
   "metadata": {},
   "outputs": [
    {
     "data": {
      "text/latex": [
       "$\\displaystyle V_{g} = \\begin{cases} \\min\\left(5.5 f_{T} b, 12 f_{T} d_{4}\\right) & \\text{for}\\: b < 4 d_{4} \\\\5.5 f_{T} b & \\text{otherwise} \\end{cases}$"
      ],
      "text/plain": [
       "      ⎧Min(5.5*f_T*b, 12*f_T*d_4)  for b < 4⋅d₄\n",
       "V_g = ⎨                                        \n",
       "      ⎩        5.5⋅f_T⋅b            otherwise  "
      ]
     },
     "metadata": {},
     "output_type": "display_data"
    }
   ],
   "source": [
    "display(V_g_func_0(bridge_type=\"3\",motion=\"Torsional\"))# for bridge types 3,3A,4 and 4A."
   ]
  },
  {
   "cell_type": "code",
   "execution_count": 11,
   "id": "17c43e09-39de-47e7-91f3-7b20aeb795c7",
   "metadata": {},
   "outputs": [
    {
     "data": {
      "image/png": "[encoded data removed]",
      "text/latex": [
       "$\\displaystyle V_{g} = V_{Rg} f_{B} d_{4}$"
      ],
      "text/plain": [
       "V_g = V_Rg⋅f_B⋅d₄"
      ]
     },
     "metadata": {},
     "output_type": "display_data"
    }
   ],
   "source": [
    "display(V_g_func_0(bridge_type=\"3\",motion=\"Vertical\"))"
   ]
  },
  {
   "cell_type": "code",
   "execution_count": null,
   "id": "e706c3ec-cdcb-4a75-8738-825c4f571231",
   "metadata": {},
   "outputs": [],
   "source": []
  },
  {
   "cell_type": "code",
   "execution_count": 12,
   "id": "ccf0f35f-8d6e-4f1d-8871-2a5b80c5d892",
   "metadata": {},
   "outputs": [
    {
     "data": {
      "image/png": "[encoded data removed]",
      "text/latex": [
       "$\\displaystyle V_{g} = 59.28$"
      ],
      "text/plain": [
       "V_g = 59.28"
      ]
     },
     "metadata": {},
     "output_type": "display_data"
    }
   ],
   "source": [
    "# to calculate the V_g (in general) use this function \n",
    "\n",
    "display(V_g_func(bridge_type=\"3\", motion=\"Vertical\", b=b, b_0=b_0, m=m, rho=rho, d_4=d_4, f_B=f_B, f_T=f_T, delta_s=delta_s))"
   ]
  },
  {
   "cell_type": "markdown",
   "id": "b2d0cd60-47b9-403c-8c91-098d42d445e5",
   "metadata": {},
   "source": [
    "#### 2.1.3.3 Classical flutter\n",
    "The critical wind speed for classical flutter, $V_f$, shall be calculated from the reduced critical wind speed:\n"
   ]
  },
  {
   "cell_type": "code",
   "execution_count": 13,
   "id": "afb1a155-52ad-4744-a70a-87a2a98383a4",
   "metadata": {},
   "outputs": [],
   "source": [
    "delta_s=0.04\n",
    "r=5.98"
   ]
  },
  {
   "cell_type": "code",
   "execution_count": 14,
   "id": "7c57d9d9-cf43-4104-b627-fcb875dc3432",
   "metadata": {},
   "outputs": [
    {
     "data": {
      "image/png": "[encoded data removed]",
      "text/latex": [
       "$\\displaystyle V_{f} = b f_{T} V_{Rf}$"
      ],
      "text/plain": [
       "V_f = b⋅f_T⋅V_Rf"
      ]
     },
     "metadata": {},
     "output_type": "display_data"
    },
    {
     "data": {
      "image/png": "[encoded data removed]",
      "text/latex": [
       "$\\displaystyle V_{Rf} = 1.89 \\left(0.909 - \\left(f_{B} f_{T}^{-1}\\right)^{2}\\right)^{0.5} \\left(m r b^{-3} \\rho^{-1}\\right)^{0.5}$"
      ],
      "text/plain": [
       "                                  0.5                 \n",
       "            ⎛                   2⎞                 0.5\n",
       "            ⎜        ⎛       -1⎞ ⎟    ⎛     -3  -1⎞   \n",
       "V_Rf = 1.89⋅⎝0.909 - ⎝f_B⋅f_T  ⎠ ⎠   ⋅⎝m⋅r⋅b  ⋅ρ  ⎠   "
      ]
     },
     "metadata": {},
     "output_type": "display_data"
    },
    {
     "data": {
      "image/png": "[encoded data removed]",
      "text/latex": [
       "$\\displaystyle V_{Rf} = 1.89 \\left(0.909 - \\left(1.17 \\cdot 1.3^{-1}\\right)^{2}\\right)^{0.5} \\left(6306.0 \\cdot 5.98 \\cdot 12.6^{-3} \\cdot 1.23^{-1}\\right)^{0.5}$"
      ],
      "text/plain": [
       "                                   0.5                               \n",
       "            ⎛                    2⎞                               0.5\n",
       "            ⎜        ⎛        -1⎞ ⎟    ⎛                -3     -1⎞   \n",
       "V_Rf = 1.89⋅⎝0.909 - ⎝1.17⋅1.3  ⎠ ⎠   ⋅⎝6306.0⋅5.98⋅12.6  ⋅1.23  ⎠   "
      ]
     },
     "metadata": {},
     "output_type": "display_data"
    },
    {
     "data": {
      "image/png": "[encoded data removed]",
      "text/latex": [
       "$\\displaystyle V_{Rf} = 2.328$"
      ],
      "text/plain": [
       "V_Rf = 2.328"
      ]
     },
     "metadata": {},
     "output_type": "display_data"
    }
   ],
   "source": [
    "display(V_f_func())\n",
    "\n",
    "display(V_Rf_func())\n",
    "\n",
    "# to calculate V_Rf using:\n",
    "\n",
    "display(V_Rf_func(f_B=f_B, f_T=f_T, m=m, r=r, rho=rho,b=b))\n",
    "\n",
    "display(round_equation(V_Rf_func(f_B=f_B, f_T=f_T, m=m, r=r, rho=rho,b=b).doit()))\n",
    "\n",
    "\n"
   ]
  },
  {
   "cell_type": "markdown",
   "id": "78f09510-d710-404b-99e1-063e75fd0cc5",
   "metadata": {},
   "source": [
    "$r$ is the polar radius of gyration of the effective bridge cross section at the centre of the main span (polar second moment of mass/mass)1⁄2."
   ]
  },
  {
   "cell_type": "markdown",
   "id": "7a647702-f34e-4bdc-aa02-45960fd39ddc",
   "metadata": {},
   "source": [
    "#### 2.1.3.4 Limiting criteria\n",
    "\n",
    "The bridge shall be shown to be stable with respect to divergent amplitude response in wind storms up to wind speed $V_{WO}$, given by:"
   ]
  },
  {
   "cell_type": "code",
   "execution_count": 15,
   "id": "818fc9bc-bc1c-45d1-b80a-5501956cf8ad",
   "metadata": {},
   "outputs": [],
   "source": [
    "K_1A=1.25\n",
    "\n",
    "V_d=50."
   ]
  },
  {
   "cell_type": "code",
   "execution_count": 16,
   "id": "fac5d027-48a7-4b15-891d-4c0f1531f1c5",
   "metadata": {},
   "outputs": [
    {
     "data": {
      "image/png": "[encoded data removed]",
      "text/latex": [
       "$\\displaystyle V_{WO} = 0.37 \\cdot \\left(2 V_{d} + V_{r}\\right) K_{1A}$"
      ],
      "text/plain": [
       "V_WO = 0.37⋅(2⋅V_d + Vᵣ)⋅K_1A"
      ]
     },
     "metadata": {},
     "output_type": "display_data"
    },
    {
     "data": {
      "image/png": "[encoded data removed]",
      "text/latex": [
       "$\\displaystyle V_{WO} = 0.37 \\cdot \\left(20.0 + 2 \\cdot 50.0\\right) 1.25$"
      ],
      "text/plain": [
       "V_WO = 0.37⋅(20.0 + 2⋅50.0)⋅1.25"
      ]
     },
     "metadata": {},
     "output_type": "display_data"
    },
    {
     "data": {
      "image/png": "[encoded data removed]",
      "text/latex": [
       "$\\displaystyle V_{WO} = 55.518$"
      ],
      "text/plain": [
       "V_WO = 55.518"
      ]
     },
     "metadata": {},
     "output_type": "display_data"
    }
   ],
   "source": [
    "display(V_WO_func())\n",
    "display(V_WO_func(V_r=V_r, V_d=V_d, K_1A=K_1A))\n",
    "display(round_equation(V_WO_func(V_r=V_r, V_d=V_d, K_1A=K_1A).doit()))"
   ]
  },
  {
   "cell_type": "markdown",
   "id": "25b590ec-7dfb-4ac1-b7ee-6336743df375",
   "metadata": {},
   "source": [
    "where\n",
    "\n",
    "$V_r$ is the hourly mean wind speed derived in accordance with BD 37 (DMRB 1.3);\n",
    "\n",
    "$V_d$ is the maximum wind gust speed derived in accordance with BD 37 (DMRB 1.3) for the relevant maximum span;\n",
    "\n",
    "$K_{1A}$ is a coefficient selected to give an appropriate low probability of occurrence of these severe forms of oscillation. For locations in the UK, $K_{1A} = 1.25*$.\n",
    "\n",
    "(*Note: a higher value is appropriate for other climatic regions, eg typically $K_{1A} = 1.4$ for a tropical cyclone-prone location).\n",
    "\n",
    "Where the values of $V_g$ or $V_f$ derived in accordance with 2.1.3.2 or 2.1.3.3 respectively are lower than $V_{WO}$ further studies as noted in 1.6 or wind-tunnel tests in accordance with 3.2 shall be undertaken."
   ]
  },
  {
   "cell_type": "markdown",
   "id": "af233592-205a-4a52-83f1-4d5c147c6e84",
   "metadata": {},
   "source": [
    "### 2.1.4 Non-oscillatory divergence\n",
    "\n",
    "A structure shall be considered stable for this motion if the criteria in 2.1.3 above are satisfied."
   ]
  },
  {
   "cell_type": "code",
   "execution_count": null,
   "id": "a29757ec-b232-47fb-b8a0-e9211b0c9d77",
   "metadata": {},
   "outputs": [],
   "source": []
  }
 ],
 "metadata": {
  "kernelspec": {
   "display_name": "Python 3 (ipykernel)",
   "language": "python",
   "name": "python3"
  },
  "language_info": {
   "codemirror_mode": {
    "name": "ipython",
    "version": 3
   },
   "file_extension": ".py",
   "mimetype": "text/x-python",
   "name": "python",
   "nbconvert_exporter": "python",
   "pygments_lexer": "ipython3",
   "version": "3.9.16"
  }
 },
 "nbformat": 4,
 "nbformat_minor": 5
}
